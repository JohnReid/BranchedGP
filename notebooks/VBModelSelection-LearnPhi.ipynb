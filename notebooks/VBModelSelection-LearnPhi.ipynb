{
 "cells": [
  {
   "cell_type": "code",
   "execution_count": 1,
   "metadata": {
    "collapsed": false
   },
   "outputs": [],
   "source": [
    "import mouseQPCRModelSelection \n",
    "import numpy as np\n",
    "import time\n",
    "import AssignGPGibbsSingleLoop\n",
    "import GPflow\n",
    "import numpy as np\n",
    "import time\n",
    "import cPickle as pickle\n",
    "import assigngp_dense\n",
    "from matplotlib import pyplot as plt\n",
    "%matplotlib inline"
   ]
  },
  {
   "cell_type": "code",
   "execution_count": 2,
   "metadata": {
    "collapsed": false
   },
   "outputs": [
    {
     "name": "stdout",
     "output_type": "stream",
     "text": [
      "Loaded data data/guo_ssData.p with nrowsXncols = (437, 2).\n",
      "(437, 2)\n",
      "(437,)\n",
      "LoadMouseQPCRData output\n",
      "(437, 2)\n",
      "(437,)\n",
      "Y\n",
      "(437, 1)\n",
      "Branching kernel =====================\n",
      "unnamed.white.\u001b[1mvariance\u001b[0m transform:+ve prior:None\n",
      "[ 1.]\n",
      "unnamed.branchkernelparam.\u001b[1mBv\u001b[0m transform:(none) prior:None [FIXED]\n",
      "[[ 1.]]\n",
      "unnamed.branchkernelparam.kern.\u001b[1mvariance\u001b[0m transform:+ve prior:None\n",
      "[ 1.]\n",
      "unnamed.branchkernelparam.kern.\u001b[1mlengthscales\u001b[0m transform:+ve prior:None\n",
      "[ 1.]\n",
      "Initialise models: MAP =====================\n",
      "\n",
      "model.kern.white.\u001b[1mvariance\u001b[0m transform:+ve prior:None\n",
      "[ 1.]\n",
      "model.kern.branchkernelparam.\u001b[1mBv\u001b[0m transform:(none) prior:None [FIXED]\n",
      "[[ 1.]]\n",
      "model.kern.branchkernelparam.kern.\u001b[1mvariance\u001b[0m transform:+ve prior:None\n",
      "[ 1.]\n",
      "model.kern.branchkernelparam.kern.\u001b[1mlengthscales\u001b[0m transform:+ve prior:None\n",
      "[ 1.]\n",
      "model.likelihood.\u001b[1mvariance\u001b[0m transform:+ve prior:None\n",
      "[ 1.]\n",
      "Initialise models: VB =====================\n",
      "compiling tensorflow function...\n",
      "done\n"
     ]
    }
   ],
   "source": [
    "Bpossible = np.linspace(2,70,3)\n",
    "pt,Yall = mouseQPCRModelSelection.LoadMouseQPCRData(subsetSelection=0)\n",
    "Y = Yall[:,0][None].T\n",
    "print 'Y'\n",
    "print Y.shape\n",
    "strExp = 'MouseQPCR_Exp1'\n",
    "m,mV = mouseQPCRModelSelection.InitModels(pt,Y)"
   ]
  },
  {
   "cell_type": "code",
   "execution_count": 3,
   "metadata": {
    "collapsed": false
   },
   "outputs": [
    {
     "data": {
      "text/plain": [
       "(1311, 2)"
      ]
     },
     "execution_count": 3,
     "metadata": {},
     "output_type": "execute_result"
    }
   ],
   "source": [
    "m.XExpanded.shape"
   ]
  },
  {
   "cell_type": "code",
   "execution_count": 4,
   "metadata": {
    "collapsed": false
   },
   "outputs": [
    {
     "name": "stdout",
     "output_type": "stream",
     "text": [
      "1\n"
     ]
    }
   ],
   "source": [
    "Bpossible=None\n",
    "strSaveState='test'\n",
    "fSoftVBAssignment=False\n",
    "fOptimizeHyperparameters = False\n",
    "fReestimateMAPZ=False\n",
    "numMAPsteps = 10\n",
    "D=Y.shape[1]\n",
    "print D"
   ]
  },
  {
   "cell_type": "code",
   "execution_count": 5,
   "metadata": {
    "collapsed": false
   },
   "outputs": [
    {
     "name": "stdout",
     "output_type": "stream",
     "text": [
      "============> B=[ 20.]\n",
      "MAP assignment.\n",
      "Performing MAP inference with B=[ 20.]\n"
     ]
    },
    {
     "ename": "KeyboardInterrupt",
     "evalue": "",
     "output_type": "error",
     "traceback": [
      "\u001b[0;31m---------------------------------------------------------------------------\u001b[0m",
      "\u001b[0;31mKeyboardInterrupt\u001b[0m                         Traceback (most recent call last)",
      "\u001b[0;32m<ipython-input-5-04e1dfa4018c>\u001b[0m in \u001b[0;36m<module>\u001b[0;34m()\u001b[0m\n\u001b[1;32m     30\u001b[0m \u001b[0;34m\u001b[0m\u001b[0m\n\u001b[1;32m     31\u001b[0m \u001b[0;34m\u001b[0m\u001b[0m\n\u001b[0;32m---> 32\u001b[0;31m \u001b[0;34m(\u001b[0m\u001b[0mchainState\u001b[0m\u001b[0;34m,\u001b[0m \u001b[0mbestAssignment\u001b[0m\u001b[0;34m,\u001b[0m\u001b[0m_\u001b[0m\u001b[0;34m,\u001b[0m\u001b[0mcondProbs\u001b[0m\u001b[0;34m)\u001b[0m \u001b[0;34m=\u001b[0m     \u001b[0mm\u001b[0m\u001b[0;34m.\u001b[0m\u001b[0mInferenceGibbsMAP\u001b[0m\u001b[0;34m(\u001b[0m\u001b[0mfReturnAssignmentHistory\u001b[0m\u001b[0;34m=\u001b[0m\u001b[0mTrue\u001b[0m\u001b[0;34m,\u001b[0m\u001b[0mfDebug\u001b[0m\u001b[0;34m=\u001b[0m\u001b[0mFalse\u001b[0m\u001b[0;34m,\u001b[0m    \u001b[0mmaximumNumberOfSteps\u001b[0m\u001b[0;34m=\u001b[0m\u001b[0mnumMAPsteps\u001b[0m\u001b[0;34m,\u001b[0m    \u001b[0mstartingAssignment\u001b[0m\u001b[0;34m=\u001b[0m\u001b[0mlist\u001b[0m\u001b[0;34m(\u001b[0m\u001b[0mrandomAssignment\u001b[0m\u001b[0;34m)\u001b[0m\u001b[0;34m)\u001b[0m\u001b[0;34m\u001b[0m\u001b[0m\n\u001b[0m\u001b[1;32m     33\u001b[0m \u001b[0;34m\u001b[0m\u001b[0m\n\u001b[1;32m     34\u001b[0m \u001b[0mtotalTime\u001b[0m \u001b[0;34m=\u001b[0m \u001b[0mtime\u001b[0m\u001b[0;34m.\u001b[0m\u001b[0mtime\u001b[0m\u001b[0;34m(\u001b[0m\u001b[0;34m)\u001b[0m\u001b[0;34m-\u001b[0m\u001b[0mt0\u001b[0m\u001b[0;34m\u001b[0m\u001b[0m\n",
      "\u001b[0;32m/Users/mqbssaby/PrivateProjects/BranchedGP/AssignGPGibbsSingleLoop.pyc\u001b[0m in \u001b[0;36mInferenceGibbsMAP\u001b[0;34m(self, fMAP, fReturnAssignmentHistory, maximumNumberOfSteps, startingAssignment, fDebug, tol)\u001b[0m\n\u001b[1;32m    269\u001b[0m                     \u001b[0;32mif\u001b[0m\u001b[0;34m(\u001b[0m\u001b[0mfDebug\u001b[0m\u001b[0;34m)\u001b[0m\u001b[0;34m:\u001b[0m\u001b[0;34m\u001b[0m\u001b[0m\n\u001b[1;32m    270\u001b[0m                         \u001b[0;32mprint\u001b[0m \u001b[0;34m'Processing point '\u001b[0m \u001b[0;34m+\u001b[0m \u001b[0mstr\u001b[0m\u001b[0;34m(\u001b[0m\u001b[0mi\u001b[0m\u001b[0;34m)\u001b[0m \u001b[0;34m+\u001b[0m \u001b[0;34m' with inds '\u001b[0m \u001b[0;34m+\u001b[0m \u001b[0mstr\u001b[0m\u001b[0;34m(\u001b[0m\u001b[0mind\u001b[0m\u001b[0;34m)\u001b[0m\u001b[0;34m\u001b[0m\u001b[0m\n\u001b[0;32m--> 271\u001b[0;31m                     \u001b[0;34m(\u001b[0m\u001b[0msi\u001b[0m\u001b[0;34m,\u001b[0m\u001b[0mlastlik\u001b[0m\u001b[0;34m,\u001b[0m\u001b[0msliceOut\u001b[0m\u001b[0;34m)\u001b[0m \u001b[0;34m=\u001b[0m \u001b[0mself\u001b[0m\u001b[0;34m.\u001b[0m\u001b[0m_assignProbFunction\u001b[0m\u001b[0;34m(\u001b[0m\u001b[0mself\u001b[0m\u001b[0;34m.\u001b[0m\u001b[0mget_free_state\u001b[0m\u001b[0;34m(\u001b[0m\u001b[0;34m)\u001b[0m\u001b[0;34m,\u001b[0m\u001b[0mbestAssignment\u001b[0m\u001b[0;34m,\u001b[0m\u001b[0mind\u001b[0m\u001b[0;34m[\u001b[0m\u001b[0;36m1\u001b[0m\u001b[0;34m:\u001b[0m\u001b[0;34m]\u001b[0m\u001b[0;34m,\u001b[0m\u001b[0mi\u001b[0m\u001b[0;34m)\u001b[0m\u001b[0;34m\u001b[0m\u001b[0m\n\u001b[0m\u001b[1;32m    272\u001b[0m \u001b[0;34m\u001b[0m\u001b[0m\n\u001b[1;32m    273\u001b[0m                     \u001b[0mcondProbs\u001b[0m\u001b[0;34m.\u001b[0m\u001b[0mappend\u001b[0m\u001b[0;34m(\u001b[0m\u001b[0msliceOut\u001b[0m\u001b[0;34m)\u001b[0m\u001b[0;34m\u001b[0m\u001b[0m\n",
      "\u001b[0;32m/Users/mqbssaby/PrivateProjects/BranchedGP/AssignGPGibbsSingleLoop.pyc\u001b[0m in \u001b[0;36massignmentProbabilityMAP\u001b[0;34m(x, z, idx, iP)\u001b[0m\n\u001b[1;32m    218\u001b[0m                 \u001b[0mself\u001b[0m\u001b[0;34m.\u001b[0m\u001b[0m_session\u001b[0m\u001b[0;34m.\u001b[0m\u001b[0mrun\u001b[0m\u001b[0;34m(\u001b[0m\u001b[0minit\u001b[0m\u001b[0;34m)\u001b[0m\u001b[0;34m\u001b[0m\u001b[0m\n\u001b[1;32m    219\u001b[0m                 \u001b[0;31m# return index of winner, like of winner, all likelihoods\u001b[0m\u001b[0;34m\u001b[0m\u001b[0;34m\u001b[0m\u001b[0m\n\u001b[0;32m--> 220\u001b[0;31m                 \u001b[0;32mreturn\u001b[0m \u001b[0mself\u001b[0m\u001b[0;34m.\u001b[0m\u001b[0m_session\u001b[0m\u001b[0;34m.\u001b[0m\u001b[0mrun\u001b[0m\u001b[0;34m(\u001b[0m \u001b[0;34m(\u001b[0m\u001b[0msi\u001b[0m\u001b[0;34m,\u001b[0m\u001b[0mlastlik\u001b[0m\u001b[0;34m,\u001b[0m\u001b[0msliceOut\u001b[0m\u001b[0;34m)\u001b[0m\u001b[0;34m,\u001b[0m \u001b[0mfeed_dict\u001b[0m\u001b[0;34m=\u001b[0m\u001b[0;34m{\u001b[0m\u001b[0mself\u001b[0m\u001b[0;34m.\u001b[0m\u001b[0m_free_vars\u001b[0m\u001b[0;34m:\u001b[0m \u001b[0mx\u001b[0m\u001b[0;34m,\u001b[0m\u001b[0massignments_tf\u001b[0m\u001b[0;34m:\u001b[0m\u001b[0mz\u001b[0m\u001b[0;34m,\u001b[0m\u001b[0midxTF\u001b[0m\u001b[0;34m:\u001b[0m\u001b[0midx\u001b[0m\u001b[0;34m,\u001b[0m\u001b[0mpointToUpdate\u001b[0m\u001b[0;34m:\u001b[0m\u001b[0;34m[\u001b[0m\u001b[0miP\u001b[0m\u001b[0;34m]\u001b[0m\u001b[0;34m}\u001b[0m\u001b[0;34m)\u001b[0m\u001b[0;34m\u001b[0m\u001b[0m\n\u001b[0m\u001b[1;32m    221\u001b[0m             \u001b[0mself\u001b[0m\u001b[0;34m.\u001b[0m\u001b[0m_assignProbFunction\u001b[0m \u001b[0;34m=\u001b[0m \u001b[0massignmentProbabilityMAP\u001b[0m\u001b[0;34m\u001b[0m\u001b[0m\n\u001b[1;32m    222\u001b[0m             \u001b[0mself\u001b[0m\u001b[0;34m.\u001b[0m\u001b[0mfMAP\u001b[0m\u001b[0;34m=\u001b[0m\u001b[0mTrue\u001b[0m\u001b[0;34m\u001b[0m\u001b[0m\n",
      "\u001b[0;32m/Users/mqbssaby/anaconda/lib/python2.7/site-packages/tensorflow/python/client/session.pyc\u001b[0m in \u001b[0;36mrun\u001b[0;34m(self, fetches, feed_dict, options, run_metadata)\u001b[0m\n\u001b[1;32m    338\u001b[0m     \u001b[0;32mtry\u001b[0m\u001b[0;34m:\u001b[0m\u001b[0;34m\u001b[0m\u001b[0m\n\u001b[1;32m    339\u001b[0m       result = self._run(None, fetches, feed_dict, options_ptr,\n\u001b[0;32m--> 340\u001b[0;31m                          run_metadata_ptr)\n\u001b[0m\u001b[1;32m    341\u001b[0m       \u001b[0;32mif\u001b[0m \u001b[0mrun_metadata\u001b[0m\u001b[0;34m:\u001b[0m\u001b[0;34m\u001b[0m\u001b[0m\n\u001b[1;32m    342\u001b[0m         \u001b[0mproto_data\u001b[0m \u001b[0;34m=\u001b[0m \u001b[0mtf_session\u001b[0m\u001b[0;34m.\u001b[0m\u001b[0mTF_GetBuffer\u001b[0m\u001b[0;34m(\u001b[0m\u001b[0mrun_metadata_ptr\u001b[0m\u001b[0;34m)\u001b[0m\u001b[0;34m\u001b[0m\u001b[0m\n",
      "\u001b[0;32m/Users/mqbssaby/anaconda/lib/python2.7/site-packages/tensorflow/python/client/session.pyc\u001b[0m in \u001b[0;36m_run\u001b[0;34m(self, handle, fetches, feed_dict, options, run_metadata)\u001b[0m\n\u001b[1;32m    562\u001b[0m     \u001b[0;32mtry\u001b[0m\u001b[0;34m:\u001b[0m\u001b[0;34m\u001b[0m\u001b[0m\n\u001b[1;32m    563\u001b[0m       results = self._do_run(handle, target_list, unique_fetches,\n\u001b[0;32m--> 564\u001b[0;31m                              feed_dict_string, options, run_metadata)\n\u001b[0m\u001b[1;32m    565\u001b[0m     \u001b[0;32mfinally\u001b[0m\u001b[0;34m:\u001b[0m\u001b[0;34m\u001b[0m\u001b[0m\n\u001b[1;32m    566\u001b[0m       \u001b[0;31m# The movers are no longer used. Delete them.\u001b[0m\u001b[0;34m\u001b[0m\u001b[0;34m\u001b[0m\u001b[0m\n",
      "\u001b[0;32m/Users/mqbssaby/anaconda/lib/python2.7/site-packages/tensorflow/python/client/session.pyc\u001b[0m in \u001b[0;36m_do_run\u001b[0;34m(self, handle, target_list, fetch_list, feed_dict, options, run_metadata)\u001b[0m\n\u001b[1;32m    635\u001b[0m     \u001b[0;32mif\u001b[0m \u001b[0mhandle\u001b[0m \u001b[0;32mis\u001b[0m \u001b[0mNone\u001b[0m\u001b[0;34m:\u001b[0m\u001b[0;34m\u001b[0m\u001b[0m\n\u001b[1;32m    636\u001b[0m       return self._do_call(_run_fn, self._session, feed_dict, fetch_list,\n\u001b[0;32m--> 637\u001b[0;31m                            target_list, options, run_metadata)\n\u001b[0m\u001b[1;32m    638\u001b[0m     \u001b[0;32melse\u001b[0m\u001b[0;34m:\u001b[0m\u001b[0;34m\u001b[0m\u001b[0m\n\u001b[1;32m    639\u001b[0m       return self._do_call(_prun_fn, self._session, handle, feed_dict,\n",
      "\u001b[0;32m/Users/mqbssaby/anaconda/lib/python2.7/site-packages/tensorflow/python/client/session.pyc\u001b[0m in \u001b[0;36m_do_call\u001b[0;34m(self, fn, *args)\u001b[0m\n\u001b[1;32m    642\u001b[0m   \u001b[0;32mdef\u001b[0m \u001b[0m_do_call\u001b[0m\u001b[0;34m(\u001b[0m\u001b[0mself\u001b[0m\u001b[0;34m,\u001b[0m \u001b[0mfn\u001b[0m\u001b[0;34m,\u001b[0m \u001b[0;34m*\u001b[0m\u001b[0margs\u001b[0m\u001b[0;34m)\u001b[0m\u001b[0;34m:\u001b[0m\u001b[0;34m\u001b[0m\u001b[0m\n\u001b[1;32m    643\u001b[0m     \u001b[0;32mtry\u001b[0m\u001b[0;34m:\u001b[0m\u001b[0;34m\u001b[0m\u001b[0m\n\u001b[0;32m--> 644\u001b[0;31m       \u001b[0;32mreturn\u001b[0m \u001b[0mfn\u001b[0m\u001b[0;34m(\u001b[0m\u001b[0;34m*\u001b[0m\u001b[0margs\u001b[0m\u001b[0;34m)\u001b[0m\u001b[0;34m\u001b[0m\u001b[0m\n\u001b[0m\u001b[1;32m    645\u001b[0m     \u001b[0;32mexcept\u001b[0m \u001b[0mtf_session\u001b[0m\u001b[0;34m.\u001b[0m\u001b[0mStatusNotOK\u001b[0m \u001b[0;32mas\u001b[0m \u001b[0me\u001b[0m\u001b[0;34m:\u001b[0m\u001b[0;34m\u001b[0m\u001b[0m\n\u001b[1;32m    646\u001b[0m       \u001b[0merror_message\u001b[0m \u001b[0;34m=\u001b[0m \u001b[0mcompat\u001b[0m\u001b[0;34m.\u001b[0m\u001b[0mas_text\u001b[0m\u001b[0;34m(\u001b[0m\u001b[0me\u001b[0m\u001b[0;34m.\u001b[0m\u001b[0merror_message\u001b[0m\u001b[0;34m)\u001b[0m\u001b[0;34m\u001b[0m\u001b[0m\n",
      "\u001b[0;32m/Users/mqbssaby/anaconda/lib/python2.7/site-packages/tensorflow/python/client/session.pyc\u001b[0m in \u001b[0;36m_run_fn\u001b[0;34m(session, feed_dict, fetch_list, target_list, options, run_metadata)\u001b[0m\n\u001b[1;32m    626\u001b[0m       \u001b[0;32melse\u001b[0m\u001b[0;34m:\u001b[0m\u001b[0;34m\u001b[0m\u001b[0m\n\u001b[1;32m    627\u001b[0m         return tf_session.TF_Run(\n\u001b[0;32m--> 628\u001b[0;31m             session, None, feed_dict, fetch_list, target_list, None)\n\u001b[0m\u001b[1;32m    629\u001b[0m \u001b[0;34m\u001b[0m\u001b[0m\n\u001b[1;32m    630\u001b[0m     \u001b[0;32mdef\u001b[0m \u001b[0m_prun_fn\u001b[0m\u001b[0;34m(\u001b[0m\u001b[0msession\u001b[0m\u001b[0;34m,\u001b[0m \u001b[0mhandle\u001b[0m\u001b[0;34m,\u001b[0m \u001b[0mfeed_dict\u001b[0m\u001b[0;34m,\u001b[0m \u001b[0mfetch_list\u001b[0m\u001b[0;34m)\u001b[0m\u001b[0;34m:\u001b[0m\u001b[0;34m\u001b[0m\u001b[0m\n",
      "\u001b[0;31mKeyboardInterrupt\u001b[0m: "
     ]
    }
   ],
   "source": [
    "# Do the MAP solution and plot assignments\n",
    "Kbranch = m.kern\n",
    "pt = mV.t\n",
    "b = 20\n",
    "\n",
    "Bcrap = np.atleast_2d(b) # crappy branch point\n",
    "t0 = time.time()\n",
    "\n",
    "# reinitialise hyperparameters\n",
    "Kbranch.white.variance = 1e-6\n",
    "Kbranch.branchkernelparam.kern.lengthscales = 120 # 20 + (90. - b) / 2. # 65\n",
    "Kbranch.branchkernelparam.kern.variance = 2 #0.0012 #  2.3158\n",
    "m.likelihood.variance = 0.08\n",
    "mV.likelihood.variance = m.likelihood.variance._array\n",
    "\n",
    "# should recompute Kernel everytime we update kernel hyperparameters\n",
    "m.CompileAssignmentProbability(fDebug=False,fMAP=True) \n",
    "\n",
    "# set branching point\n",
    "m.kern.branchkernelparam.Bv = Bcrap \n",
    "\n",
    "print '============> B=' + str(m.kern.branchkernelparam.Bv._array.flatten())\n",
    "\n",
    "# Random assignment for given branch point\n",
    "\n",
    "np.random.seed(47)\n",
    "\n",
    "randomAssignment = AssignGPGibbsSingleLoop.GetRandomInit(pt,Bcrap,m.indices)\n",
    "print 'MAP assignment.'\n",
    "\n",
    "\n",
    "(chainState, bestAssignment,_,condProbs) = \\\n",
    "    m.InferenceGibbsMAP(fReturnAssignmentHistory=True,fDebug=False,\\\n",
    "    maximumNumberOfSteps=numMAPsteps,\\\n",
    "    startingAssignment=list(randomAssignment))\n",
    "\n",
    "totalTime = time.time()-t0\n",
    "print 'MAP tooks ' + str(totalTime) + ' seconds.'    "
   ]
  },
  {
   "cell_type": "code",
   "execution_count": null,
   "metadata": {
    "collapsed": false
   },
   "outputs": [],
   "source": [
    "m"
   ]
  },
  {
   "cell_type": "code",
   "execution_count": null,
   "metadata": {
    "collapsed": false
   },
   "outputs": [],
   "source": [
    "mV"
   ]
  },
  {
   "cell_type": "code",
   "execution_count": null,
   "metadata": {
    "collapsed": false
   },
   "outputs": [],
   "source": [
    "# Plot MAP solution\n",
    "assigngp_dense.PlotSample(D,m.XExpanded[bestAssignment, : ],3,Y,Bcrap,lw=5.,fs=30, \\\n",
    "                      mV=None, figsizeIn=(D*10,D*7),title='Posterior B=%.1f -loglik= %.2f VB= %.2f'%(b,0,0))"
   ]
  },
  {
   "cell_type": "code",
   "execution_count": null,
   "metadata": {
    "collapsed": false,
    "scrolled": true
   },
   "outputs": [],
   "source": [
    "Bpossible = np.linspace(22,50,5)\n",
    "#Bpossible = [45]\n",
    "logVBBound = []\n",
    "\n",
    "Kbranch = m.kern\n",
    "pt = mV.t\n",
    "\n",
    "mV.kern.branchkernelparam.Bv.fixed = True # B not part of the state\n",
    "mV.kern.white.variance = 1e-6\n",
    "mV.kern.white.variance.fixed = True\n",
    "\n",
    "stateSaved = mV.get_free_state().copy()\n",
    "\n",
    "for ib,b in enumerate(Bpossible):\n",
    "    t0 = time.time()\n",
    "\n",
    "    mV.set_state(stateSaved)\n",
    "    \n",
    "    Bcrap = np.atleast_2d(b) # crappy branch point - remove?\n",
    "\n",
    "    # reset branching allocations for before branching point\n",
    "    bestAssignmentCensored = list(bestAssignment)\n",
    "    for i,bi in enumerate(bestAssignment):\n",
    "        if mV.X[bi,0] < b :\n",
    "            # before branching point \n",
    "            bestAssignmentCensored[i] = m.indices[i][0]\n",
    "        \n",
    "    # Variational bound computation\n",
    "    mV.kern.branchkernelparam.Bv = Bcrap\n",
    "    mV._needs_recompile = True\n",
    "    \n",
    "    print 'Variational kernel branch value ' + str(mV.kern.branchkernelparam.Bv._array.flatten())\n",
    "    # Set state for assignments\n",
    "    \n",
    "    mV.InitialisePhi(m.indices, bestAssignmentCensored, b, condProbs, fSoftAssignment = True, fSoftUni = True)\n",
    "\n",
    "    mV.optimize(max_iters=100)\n",
    "    \n",
    "    VBbound = -mV.compute_log_likelihood()\n",
    "    logVBBound.append(VBbound)\n",
    "\n",
    "    assigngp_dense.PlotSample(D, mV.X[bestAssignmentCensored, : ],3,Y,Bcrap,lw=5.,fs=30, \\\n",
    "                          mV=mV, figsizeIn=(D*10,D*7), title='Posterior B=%.1f -loglik= %.2f VB= %.2f'%(b,0,VBbound))\n",
    "\n",
    "\n",
    "    plt.figure()\n",
    "    count=0\n",
    "    for p, x, y in zip(mV.GetPhi(), mV.X[::3, 0], mV.Y):\n",
    "        ps = p[count:count + 3]\n",
    "        plt.scatter(x, y, 100, ps[2], vmin=0, vmax=1, cmap=plt.cm.viridis)\n",
    "        count += 3\n",
    "        \n",
    "    totalTime = time.time()-t0\n",
    "    print 'B=' + str(b) + '. VB bound=%.2f. Time=%g secs.'%(VBbound, totalTime)    "
   ]
  },
  {
   "cell_type": "code",
   "execution_count": null,
   "metadata": {
    "collapsed": false
   },
   "outputs": [],
   "source": [
    "nlogL = np.array(logVBBound)\n",
    "iMin = np.argmin(nlogL)\n",
    "plt.plot(Bpossible[:len(logVBBound)],nlogL, '-ob')\n",
    "plt.title('-log marginal (vb) (b)')\n",
    "\n",
    "v=plt.axis()\n",
    "minB = Bpossible[iMin]\n",
    "plt.plot([minB,minB],v[-2:],'--b')\n",
    "\n",
    "print 'VB estimated B ' + str(minB) + ' with marginal likelihood ' + str(logVBBound[iMin])"
   ]
  },
  {
   "cell_type": "code",
   "execution_count": null,
   "metadata": {
    "collapsed": false
   },
   "outputs": [],
   "source": [
    "mV"
   ]
  },
  {
   "cell_type": "code",
   "execution_count": null,
   "metadata": {
    "collapsed": false
   },
   "outputs": [],
   "source": [
    "mV"
   ]
  },
  {
   "cell_type": "code",
   "execution_count": null,
   "metadata": {
    "collapsed": false
   },
   "outputs": [],
   "source": [
    "count=0\n",
    "for p, x, y in zip(mV.GetPhi(), mV.X[::3, 0], mV.Y):\n",
    "        ps = p[count:count + 3]\n",
    "        plt.scatter(x, y, 100, ps[2], vmin=0, vmax=1, cmap=plt.cm.viridis)\n",
    "        count += 3"
   ]
  },
  {
   "cell_type": "code",
   "execution_count": null,
   "metadata": {
    "collapsed": false
   },
   "outputs": [],
   "source": [
    "mV.GetPhi()[50:52,150:156].round()"
   ]
  },
  {
   "cell_type": "code",
   "execution_count": null,
   "metadata": {
    "collapsed": false
   },
   "outputs": [],
   "source": [
    "mV.InitialisePhi(m.indices, bestAssignmentCensored, b, condProbs, fSoftAssignment = True, fSoftUni = False)"
   ]
  },
  {
   "cell_type": "code",
   "execution_count": null,
   "metadata": {
    "collapsed": false
   },
   "outputs": [],
   "source": [
    "count=0\n",
    "for p, x, y in zip(mV.GetPhi(), mV.X[::3, 0], mV.Y):\n",
    "        ps = p[count:count + 3]\n",
    "        plt.scatter(x, y, 100, ps[2], vmin=0, vmax=1, cmap=plt.cm.viridis)\n",
    "        count += 3\n",
    "plt.colorbar()"
   ]
  },
  {
   "cell_type": "code",
   "execution_count": null,
   "metadata": {
    "collapsed": false
   },
   "outputs": [],
   "source": [
    "Y.shape"
   ]
  },
  {
   "cell_type": "code",
   "execution_count": null,
   "metadata": {
    "collapsed": false
   },
   "outputs": [],
   "source": [
    "m.XExpanded.shape"
   ]
  },
  {
   "cell_type": "code",
   "execution_count": null,
   "metadata": {
    "collapsed": true
   },
   "outputs": [],
   "source": []
  }
 ],
 "metadata": {
  "kernelspec": {
   "display_name": "Python 2",
   "language": "python",
   "name": "python2"
  },
  "language_info": {
   "codemirror_mode": {
    "name": "ipython",
    "version": 2
   },
   "file_extension": ".py",
   "mimetype": "text/x-python",
   "name": "python",
   "nbconvert_exporter": "python",
   "pygments_lexer": "ipython2",
   "version": "2.7.11"
  }
 },
 "nbformat": 4,
 "nbformat_minor": 0
}
