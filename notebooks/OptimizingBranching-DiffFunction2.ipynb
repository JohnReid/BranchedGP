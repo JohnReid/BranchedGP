{
 "cells": [
  {
   "cell_type": "code",
   "execution_count": 1,
   "metadata": {
    "collapsed": false
   },
   "outputs": [
    {
     "data": {
      "text/plain": [
       "[<matplotlib.lines.Line2D at 0x7feadac6d6d0>]"
      ]
     },
     "execution_count": 1,
     "metadata": {},
     "output_type": "execute_result"
    },
    {
     "data": {
      "image/png": "[encoded data removed]",
      "text/plain": [
       "<matplotlib.figure.Figure at 0x7feae1ad2850>"
      ]
     },
     "metadata": {},
     "output_type": "display_data"
    }
   ],
   "source": [
    "from matplotlib import pyplot as plt\n",
    "%matplotlib inline\n",
    "plt.plot(1,1,'ro')"
   ]
  },
  {
   "cell_type": "code",
   "execution_count": 2,
   "metadata": {
    "collapsed": false
   },
   "outputs": [],
   "source": [
    "import GPflow\n",
    "import numpy as np\n",
    "import tensorflow as tf\n",
    "import AssignGPGibbsSingleLoop\n",
    "import BranchingTree as bt\n",
    "np.set_printoptions(precision=4) # precision to print numpy array\n",
    "import branch_kernParamGPflow as bk\n",
    "import time\n",
    "import assigngp_dense "
   ]
  },
  {
   "cell_type": "markdown",
   "metadata": {
    "collapsed": false
   },
   "source": [
    "# Draw a sample from the kernel"
   ]
  },
  {
   "cell_type": "code",
   "execution_count": 3,
   "metadata": {
    "collapsed": false
   },
   "outputs": [
    {
     "name": "stdout",
     "output_type": "stream",
     "text": [
      "------------------1(12)[2,3]\n",
      "Branching kernel\n",
      "unnamed.branchkernelparam.\u001b[1mBv\u001b[0m transform:(none) prior:None [FIXED]\n",
      "[[ 12.]]\n",
      "unnamed.branchkernelparam.kern.\u001b[1mvariance\u001b[0m transform:+ve prior:None\n",
      "[ 1.]\n",
      "unnamed.branchkernelparam.kern.\u001b[1mlengthscales\u001b[0m transform:+ve prior:None\n",
      "[ 5.]\n",
      "unnamed.white.\u001b[1mvariance\u001b[0m transform:+ve prior:None\n",
      "[ 0.001]\n"
     ]
    },
    {
     "name": "stderr",
     "output_type": "stream",
     "text": [
      "/home/mqbssaby/anaconda2/lib/python2.7/site-packages/ipykernel/__main__.py:47: DeprecationWarning: converting an array with ndim > 0 to an index will result in an error in the future\n"
     ]
    },
    {
     "data": {
      "image/png": "[encoded data removed]",
      "text/plain": [
       "<matplotlib.figure.Figure at 0x7feac7be3ed0>"
      ]
     },
     "metadata": {},
     "output_type": "display_data"
    }
   ],
   "source": [
    "# Try some really easy examples\n",
    "#seed,N,D = 321113,100,2\n",
    "#seed,N,D = 626,3,1 # toy example for debugging\n",
    "\n",
    "# Branching tree \n",
    "iChoose = 1\n",
    "if(iChoose == 1):\n",
    "    seed,N,D = 938,200,1\n",
    "    lenScale = 5\n",
    "\n",
    "    tree = bt.BinaryBranchingTree(0,20)\n",
    "    tree.add(None,1,12)\n",
    "    #tree.add(1,3,12)\n",
    "elif(iChoose == 2):    \n",
    "    seed,N,D = 2263,150,1\n",
    "    lenScale = 10\n",
    "    \n",
    "    tree = bt.BinaryBranchingTree(0,20,fDebug=False) # set to true to print debug messages\n",
    "    tree.add(None,1,10) # single branching point\n",
    "elif(iChoose == 3):\n",
    "    seed,N,D = 22233,170,1\n",
    "    lenScale = 10\n",
    "    \n",
    "    tree = bt.BinaryBranchingTree(0,20,fDebug=False) # set to true to print debug messages\n",
    "    tree.add(None,1,12) # single branching point\n",
    "\n",
    "    \n",
    "np.random.seed(seed=seed) # easy peasy reproducibeasy\n",
    "tf.set_random_seed(seed)\n",
    "\n",
    "assert tree.GetNumberOfBranchPts() == 1 # do not currently support more than one branching point in Param code.\n",
    "\n",
    "(fm, fmb) = tree.GetFunctionBranchTensor()\n",
    "#print fmb\n",
    "tree.printTree()    \n",
    "\n",
    "t = np.linspace(.1,20,N)\n",
    "df = tree.GetFunctionDomains()\n",
    "\n",
    "(XForKernel, indicesBranch,Xtrue) = tree.GetFunctionIndexList(t,fReturnXtrue=True)\n",
    "\n",
    "# calculate true assignment\n",
    "trueAssignment = np.zeros(N,int)\n",
    "for i,ind in enumerate(indicesBranch):            \n",
    "    whichind = np.flatnonzero(XForKernel[ind,1] == Xtrue[i,1]) # which entry ind is correct?\n",
    "    assert len(whichind) == 1\n",
    "    trueAssignment[i] = ind[whichind]\n",
    "\n",
    "# Kernel    \n",
    "Bvalues = np.expand_dims(np.asarray(tree.GetBranchValues()),1) # true \n",
    "\n",
    "BvaluesInit = np.ones((1,1)) # initial values\n",
    "\n",
    "Kbranch = bk.BranchKernelParam(GPflow.kernels.Matern32(1), fm, BvInitial=BvaluesInit) + GPflow.kernels.White(1)\n",
    "varianceLik = .001\n",
    "Kbranch.white.variance = varianceLik # controls the discontinuity magnitude, the gap at the branching point\n",
    "Kbranch.branchkernelparam.kern.lengthscales = lenScale\n",
    "Kbranch.branchkernelparam.kern.variance = 1\n",
    "Kbranch.branchkernelparam.Bv = Bvalues\n",
    "Kbranch.branchkernelparam.Bv.fixed = True\n",
    "print 'Branching kernel'\n",
    "print Kbranch\n",
    "\n",
    "(Y,L,K)=bk.SampleBranchGP(Kbranch,Xtrue,df.shape[0],D=D, tol=1e-5)\n",
    "\n",
    "Y = Y - Y.mean()\n",
    "\n",
    "bk.PlotSample(D,Xtrue,df.shape[0],Y,Bvalues,lw=3.,fs=30, figsizeIn=(10,7))"
   ]
  },
  {
   "cell_type": "code",
   "execution_count": 4,
   "metadata": {
    "collapsed": false
   },
   "outputs": [
    {
     "name": "stdout",
     "output_type": "stream",
     "text": [
      "(600, 2)\n",
      "200\n",
      "compiling tensorflow function...\n",
      "done\n"
     ]
    }
   ],
   "source": [
    "# Initialise model\n",
    "m = AssignGPGibbsSingleLoop.AssignGPGibbsFast(t, Y, Kbranch)\n",
    "m.likelihood.variance = varianceLik\n",
    "m.kern.branchkernelparam.Bv = BvaluesInit\n",
    "m.CompileAssignmentProbability(fDebug=False,fMAP=True) \n",
    "\n",
    "print m.XExpanded.shape\n",
    "print len(m.indices)\n",
    "#print XSampleGeneral\n",
    "\n",
    "mV = assigngp_dense.AssignGP(t, m.XExpanded, Y, Kbranch)\n",
    "mV.likelihood.variance = varianceLik\n",
    "mV._compile() # creates objective function"
   ]
  },
  {
   "cell_type": "code",
   "execution_count": null,
   "metadata": {
    "collapsed": true
   },
   "outputs": [],
   "source": [
    "def plotPosterior(pt, Bv):\n",
    "    l = np.min(pt)\n",
    "    u = np.max(pt)\n",
    "\n",
    "    for f in range(1, 4):\n",
    "        if(f==1):\n",
    "            ttest = np.linspace(l, Bv, 100)[:,None] # root\n",
    "        else:\n",
    "            ttest = np.linspace(Bv, u, 100)[:,None]\n",
    "        Xtest = np.hstack((ttest, ttest*0+f))\n",
    "        mu, var = mV.predict_f(Xtest)\n",
    "        assert np.all(np.isfinite(mu)), 'All elements should be finite but are ' + str(mu)\n",
    "        assert np.all(np.isfinite(var)), 'All elements should be finite but are ' + str(var)\n",
    "        mean, = plt.plot(ttest, mu)\n",
    "        col = mean.get_color()\n",
    "        plt.plot(ttest, mu + 2*np.sqrt(var), '--', color=col)\n",
    "        plt.plot(ttest, mu - 2*np.sqrt(var), '--', color=col)"
   ]
  },
  {
   "cell_type": "code",
   "execution_count": null,
   "metadata": {
    "collapsed": false,
    "scrolled": true
   },
   "outputs": [
    {
     "name": "stdout",
     "output_type": "stream",
     "text": [
      "============> B=[ 1.]\n",
      "Performing MAP inference with B=[ 1.]\n",
      "Converged after 2 iterations, lik=-178.112"
     ]
    }
   ],
   "source": [
    "Bpossible = np.linspace(1,19,80)\n",
    "logLike = []\n",
    "\n",
    "logVBBound = []\n",
    "\n",
    "\n",
    "start_time = time.time()\n",
    "\n",
    "for b in Bpossible:\n",
    "    Bcrap = np.atleast_2d(b) # crappy branch point\n",
    "\n",
    "    # set branching point\n",
    "    m.kern.branchkernelparam.Bv = Bcrap \n",
    "\n",
    "    print '============> B=' + str(m.kern.branchkernelparam.Bv._array.flatten())\n",
    "    \n",
    "    # Random assignment for given branch point\n",
    "    randomAssignment = AssignGPGibbsSingleLoop.GetRandomInit(t,Bcrap,m.indices)\n",
    "    #print m.XExpanded[randomAssignment,1]\n",
    "\n",
    "    numMCMCsteps = 10\n",
    "    #bestAssignment = list(randomAssignment)\n",
    "    #chainState = np.ones(10)\n",
    "    (chainState, bestAssignment) = m.InferenceGibbsMAP(fDebug=False,maximumNumberOfSteps=numMCMCsteps,\\\n",
    "                                                                 startingAssignment=randomAssignment)\n",
    "        \n",
    "    # TODO: extend to multiple branch points\n",
    "#    bk.PlotSample(D,m.XExpanded[bestAssignment, : ],3,Y,Bcrap,lw=3.,fs=30, figsizeIn=(10,7),title='MAP result '+str(b) + ' lik=' + str(chainState[-1]))\n",
    "    logLike.append(chainState[-1])\n",
    "        \n",
    "    # Variational bound - no recomputing\n",
    "    mV.kern.branchkernelparam.Bv = Bcrap\n",
    "    print 'Variational kernel branch value ' + str(mV.kern.branchkernelparam.Bv._array.flatten())\n",
    "    # Set state for assignments\n",
    "    phiInitial =  np.zeros((N,3*N))\n",
    "    for i,n in enumerate(bestAssignment):\n",
    "        phiInitial[i,n] = 10\n",
    "    mV.logPhi= phiInitial\n",
    "    # Could also optimize!\n",
    "    VBbound = mV._objective(mV.get_free_state())[0] # this is -log of bound\n",
    "    \n",
    "    logVBBound.append(VBbound)\n",
    "    \n",
    "    bk.PlotSample(D,m.XExpanded[bestAssignment, : ],3,Y,Bcrap,lw=3.,fs=30, figsizeIn=(10,7),title='Posterior B=%.1f -loglik= %.2f VB= %.2f'%(b,-chainState[-1],VBbound))\n",
    "    \n",
    "    plotPosterior(t,b)\n",
    "    \n",
    "    print 'B=' + str(b) + '. MAP lik=%.2f, VB bound=%.2f'%(chainState[-1],VBbound)    \n",
    "\n",
    "elapsed_time = time.time() - start_time\n",
    "print 'B=' + str(b) + ' elapsed times %.1f minutes.'%(elapsed_time/60.)"
   ]
  },
  {
   "cell_type": "code",
   "execution_count": null,
   "metadata": {
    "collapsed": false
   },
   "outputs": [],
   "source": [
    "nlogL = -np.array(logLike)\n",
    "iMin = np.argmin(nlogL)\n",
    "plt.plot(Bpossible,nlogL, '-ob')\n",
    "plt.title('-logpdf (b), true branch (k)')\n",
    "\n",
    "v=plt.axis()\n",
    "minB = Bpossible[iMin]\n",
    "trueB = tree.GetBranchValues()\n",
    "\n",
    "plt.plot([minB,minB],v[-2:],'--b')\n",
    "plt.plot([trueB,trueB],v[-2:],'-k')\n",
    "\n",
    "print 'BestB = ' +str(trueB) + ' estimated B ' + str(minB) + ' with likelihood ' + str(logLike[iMin])"
   ]
  },
  {
   "cell_type": "code",
   "execution_count": null,
   "metadata": {
    "collapsed": false
   },
   "outputs": [],
   "source": [
    "nlogL = np.array(logVBBound)\n",
    "iMin = np.argmin(nlogL)\n",
    "plt.plot(Bpossible,nlogL, '-ob')\n",
    "plt.title('-2 vb (b), true branch (k)')\n",
    "\n",
    "v=plt.axis()\n",
    "minB = Bpossible[iMin]\n",
    "trueB = tree.GetBranchValues()\n",
    "\n",
    "plt.plot([minB,minB],v[-2:],'--b')\n",
    "plt.plot([trueB,trueB],v[-2:],'-k')\n",
    "\n",
    "print 'BestB = ' +str(trueB) + ' estimated B ' + str(minB) + ' with marginal likelihood ' + str(logVBBound[iMin])"
   ]
  },
  {
   "cell_type": "markdown",
   "metadata": {},
   "source": [
    "mV = assigngp_dense.AssignGP(t, m.XExpanded, Y, Kbranch)\n",
    "mV.kern.branchkernelparam.Bv.get_free_state()\n",
    "mV.logPhi.get_free_state()\n",
    "\n",
    "print mV.logPhi\n",
    "print len(bestAssignment)\n",
    "phiInitial =  np.zeros((N,3*N))\n",
    "\n",
    "for i,n in enumerate(bestAssignment):\n",
    "    phiInitial[i,n] = 10\n",
    "    \n",
    "mV.logPhi= phiInitial\n",
    "\n",
    "mV._compile()\n",
    "mV._objective(mV.get_free_state())[0]"
   ]
  },
  {
   "cell_type": "code",
   "execution_count": null,
   "metadata": {
    "collapsed": true
   },
   "outputs": [],
   "source": []
  }
 ],
 "metadata": {
  "kernelspec": {
   "display_name": "Python 2",
   "language": "python",
   "name": "python2"
  },
  "language_info": {
   "codemirror_mode": {
    "name": "ipython",
    "version": 2
   },
   "file_extension": ".py",
   "mimetype": "text/x-python",
   "name": "python",
   "nbconvert_exporter": "python",
   "pygments_lexer": "ipython2",
   "version": "2.7.11"
  }
 },
 "nbformat": 4,
 "nbformat_minor": 0
}
