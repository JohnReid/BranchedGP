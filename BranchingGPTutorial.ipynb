{
 "cells": [
  {
   "cell_type": "code",
   "execution_count": 1,
   "metadata": {
    "collapsed": false
   },
   "outputs": [
    {
     "data": {
      "text/plain": [
       "[<matplotlib.lines.Line2D at 0x1122dd748>]"
      ]
     },
     "execution_count": 1,
     "metadata": {},
     "output_type": "execute_result"
    },
    {
     "data": {
      "image/png": "[encoded data removed]",
      "text/plain": [
       "<matplotlib.figure.Figure at 0x1063e7e10>"
      ]
     },
     "metadata": {},
     "output_type": "display_data"
    }
   ],
   "source": [
    "from matplotlib import pyplot as plt\n",
    "%matplotlib inline\n",
    "plt.plot(1,1,'ro')"
   ]
  },
  {
   "cell_type": "code",
   "execution_count": 2,
   "metadata": {
    "collapsed": true
   },
   "outputs": [],
   "source": [
    "import GPflow\n",
    "import numpy as np\n",
    "import tensorflow as tf\n",
    "import AssignGPGibbsSingleLoop\n",
    "import BranchingTree as bt\n",
    "np.set_printoptions(precision=4) # precision to print numpy array\n",
    "import branch_kernParamGPflow as bk\n",
    "import time\n",
    "import assigngp_dense "
   ]
  },
  {
   "cell_type": "code",
   "execution_count": 5,
   "metadata": {
    "collapsed": false
   },
   "outputs": [
    {
     "name": "stdout",
     "output_type": "stream",
     "text": [
      "[ 0.      0.0526  0.1053  0.1579  0.2105  0.2632  0.3158  0.3684  0.4211\n",
      "  0.4737  0.5263  0.5789  0.6316  0.6842  0.7368  0.7895  0.8421  0.8947\n",
      "  0.9474  1.    ]\n",
      "[10 11 12 13 14 15 16 17 18 19]\n",
      "[10 12 14 16 18]\n",
      "[11 13 15 17 19]\n"
     ]
    },
    {
     "data": {
      "text/plain": [
       "[<matplotlib.lines.Line2D at 0x122db0710>]"
      ]
     },
     "execution_count": 5,
     "metadata": {},
     "output_type": "execute_result"
    },
    {
     "data": {
      "image/png": "[encoded data removed]",
      "text/plain": [
       "<matplotlib.figure.Figure at 0x122d45fd0>"
      ]
     },
     "metadata": {},
     "output_type": "display_data"
    }
   ],
   "source": [
    "seed = 43\n",
    "\n",
    "np.random.seed(seed=seed) # easy peasy reproducibeasy\n",
    "tf.set_random_seed(seed)\n",
    "\n",
    "N = 20\n",
    "t = np.linspace(0,1,N)\n",
    "print(t)\n",
    "Bv = 0.5\n",
    "Y = np.zeros( (N,1) )\n",
    "idx = np.nonzero(t > 0.5)[0]\n",
    "idxA = idx[::2]\n",
    "idxB = idx[1::2]\n",
    "print (idx)\n",
    "print (idxA)\n",
    "print (idxB)\n",
    "Y[idxA,0] = 2*t[idxA]\n",
    "Y[idxB,0] = -2*t[idxB]\n",
    "\n",
    "plt.plot(t,Y,'ob')"
   ]
  },
  {
   "cell_type": "code",
   "execution_count": 7,
   "metadata": {
    "collapsed": false,
    "scrolled": true
   },
   "outputs": [
    {
     "name": "stdout",
     "output_type": "stream",
     "text": [
      "[[ 0.5]]\n",
      "[[[ nan]\n",
      "  [  1.]\n",
      "  [  1.]]\n",
      "\n",
      " [[  1.]\n",
      "  [ nan]\n",
      "  [  1.]]\n",
      "\n",
      " [[  1.]\n",
      "  [  1.]\n",
      "  [ nan]]]\n"
     ]
    },
    {
     "ename": "InvalidArgumentError",
     "evalue": "You must feed a value for placeholder tensor 'Bv' with dtype double and shape [1,1]\n\t [[Node: Bv = Placeholder[dtype=DT_DOUBLE, shape=[1,1], _device=\"/job:localhost/replica:0/task:0/cpu:0\"]()]]\nCaused by op 'Bv', defined at:\n  File \"/Users/mqbssaby/anaconda/lib/python3.5/runpy.py\", line 184, in _run_module_as_main\n    \"__main__\", mod_spec)\n  File \"/Users/mqbssaby/anaconda/lib/python3.5/runpy.py\", line 85, in _run_code\n    exec(code, run_globals)\n  File \"/Users/mqbssaby/anaconda/lib/python3.5/site-packages/ipykernel/__main__.py\", line 3, in <module>\n    app.launch_new_instance()\n  File \"/Users/mqbssaby/anaconda/lib/python3.5/site-packages/traitlets/config/application.py\", line 596, in launch_instance\n    app.start()\n  File \"/Users/mqbssaby/anaconda/lib/python3.5/site-packages/ipykernel/kernelapp.py\", line 442, in start\n    ioloop.IOLoop.instance().start()\n  File \"/Users/mqbssaby/anaconda/lib/python3.5/site-packages/zmq/eventloop/ioloop.py\", line 162, in start\n    super(ZMQIOLoop, self).start()\n  File \"/Users/mqbssaby/anaconda/lib/python3.5/site-packages/tornado/ioloop.py\", line 883, in start\n    handler_func(fd_obj, events)\n  File \"/Users/mqbssaby/anaconda/lib/python3.5/site-packages/tornado/stack_context.py\", line 275, in null_wrapper\n    return fn(*args, **kwargs)\n  File \"/Users/mqbssaby/anaconda/lib/python3.5/site-packages/zmq/eventloop/zmqstream.py\", line 440, in _handle_events\n    self._handle_recv()\n  File \"/Users/mqbssaby/anaconda/lib/python3.5/site-packages/zmq/eventloop/zmqstream.py\", line 472, in _handle_recv\n    self._run_callback(callback, msg)\n  File \"/Users/mqbssaby/anaconda/lib/python3.5/site-packages/zmq/eventloop/zmqstream.py\", line 414, in _run_callback\n    callback(*args, **kwargs)\n  File \"/Users/mqbssaby/anaconda/lib/python3.5/site-packages/tornado/stack_context.py\", line 275, in null_wrapper\n    return fn(*args, **kwargs)\n  File \"/Users/mqbssaby/anaconda/lib/python3.5/site-packages/ipykernel/kernelbase.py\", line 276, in dispatcher\n    return self.dispatch_shell(stream, msg)\n  File \"/Users/mqbssaby/anaconda/lib/python3.5/site-packages/ipykernel/kernelbase.py\", line 228, in dispatch_shell\n    handler(stream, idents, msg)\n  File \"/Users/mqbssaby/anaconda/lib/python3.5/site-packages/ipykernel/kernelbase.py\", line 391, in execute_request\n    user_expressions, allow_stdin)\n  File \"/Users/mqbssaby/anaconda/lib/python3.5/site-packages/ipykernel/ipkernel.py\", line 199, in do_execute\n    shell.run_cell(code, store_history=store_history, silent=silent)\n  File \"/Users/mqbssaby/anaconda/lib/python3.5/site-packages/IPython/core/interactiveshell.py\", line 2723, in run_cell\n    interactivity=interactivity, compiler=compiler, result=result)\n  File \"/Users/mqbssaby/anaconda/lib/python3.5/site-packages/IPython/core/interactiveshell.py\", line 2825, in run_ast_nodes\n    if self.run_code(code, result):\n  File \"/Users/mqbssaby/anaconda/lib/python3.5/site-packages/IPython/core/interactiveshell.py\", line 2885, in run_code\n    exec(code_obj, self.user_global_ns, self.user_ns)\n  File \"<ipython-input-7-29417a036513>\", line 18, in <module>\n    Kbranch.branchkernelparam.Bv.fixed = True\n  File \"/Users/mqbssaby/pythonlibs/GPflow/GPflow/param.py\", line 289, in __setattr__\n    name=self.name)\n  File \"/Users/mqbssaby/anaconda/lib/python3.5/site-packages/tensorflow/python/ops/array_ops.py\", line 1274, in placeholder\n    name=name)\n  File \"/Users/mqbssaby/anaconda/lib/python3.5/site-packages/tensorflow/python/ops/gen_array_ops.py\", line 1522, in _placeholder\n    name=name)\n  File \"/Users/mqbssaby/anaconda/lib/python3.5/site-packages/tensorflow/python/framework/op_def_library.py\", line 703, in apply_op\n    op_def=op_def)\n  File \"/Users/mqbssaby/anaconda/lib/python3.5/site-packages/tensorflow/python/framework/ops.py\", line 2310, in create_op\n    original_op=self._default_original_op, op_def=op_def)\n  File \"/Users/mqbssaby/anaconda/lib/python3.5/site-packages/tensorflow/python/framework/ops.py\", line 1232, in __init__\n    self._traceback = _extract_stack()\n",
     "output_type": "error",
     "traceback": [
      "\u001b[0;31m---------------------------------------------------------------------------\u001b[0m",
      "\u001b[0;31mInvalidArgumentError\u001b[0m                      Traceback (most recent call last)",
      "\u001b[0;32m/Users/mqbssaby/anaconda/lib/python3.5/site-packages/tensorflow/python/client/session.py\u001b[0m in \u001b[0;36m_do_call\u001b[0;34m(self, fn, *args)\u001b[0m\n\u001b[1;32m    729\u001b[0m     \u001b[0;32mtry\u001b[0m\u001b[0;34m:\u001b[0m\u001b[0;34m\u001b[0m\u001b[0m\n\u001b[0;32m--> 730\u001b[0;31m       \u001b[0;32mreturn\u001b[0m \u001b[0mfn\u001b[0m\u001b[0;34m(\u001b[0m\u001b[0;34m*\u001b[0m\u001b[0margs\u001b[0m\u001b[0;34m)\u001b[0m\u001b[0;34m\u001b[0m\u001b[0m\n\u001b[0m\u001b[1;32m    731\u001b[0m     \u001b[0;32mexcept\u001b[0m \u001b[0merrors\u001b[0m\u001b[0;34m.\u001b[0m\u001b[0mOpError\u001b[0m \u001b[0;32mas\u001b[0m \u001b[0me\u001b[0m\u001b[0;34m:\u001b[0m\u001b[0;34m\u001b[0m\u001b[0m\n",
      "\u001b[0;32m/Users/mqbssaby/anaconda/lib/python3.5/site-packages/tensorflow/python/client/session.py\u001b[0m in \u001b[0;36m_run_fn\u001b[0;34m(session, feed_dict, fetch_list, target_list, options, run_metadata)\u001b[0m\n\u001b[1;32m    711\u001b[0m                                  \u001b[0mfeed_dict\u001b[0m\u001b[0;34m,\u001b[0m \u001b[0mfetch_list\u001b[0m\u001b[0;34m,\u001b[0m \u001b[0mtarget_list\u001b[0m\u001b[0;34m,\u001b[0m\u001b[0;34m\u001b[0m\u001b[0m\n\u001b[0;32m--> 712\u001b[0;31m                                  status, run_metadata)\n\u001b[0m\u001b[1;32m    713\u001b[0m \u001b[0;34m\u001b[0m\u001b[0m\n",
      "\u001b[0;32m/Users/mqbssaby/anaconda/lib/python3.5/contextlib.py\u001b[0m in \u001b[0;36m__exit__\u001b[0;34m(self, type, value, traceback)\u001b[0m\n\u001b[1;32m     65\u001b[0m             \u001b[0;32mtry\u001b[0m\u001b[0;34m:\u001b[0m\u001b[0;34m\u001b[0m\u001b[0m\n\u001b[0;32m---> 66\u001b[0;31m                 \u001b[0mnext\u001b[0m\u001b[0;34m(\u001b[0m\u001b[0mself\u001b[0m\u001b[0;34m.\u001b[0m\u001b[0mgen\u001b[0m\u001b[0;34m)\u001b[0m\u001b[0;34m\u001b[0m\u001b[0m\n\u001b[0m\u001b[1;32m     67\u001b[0m             \u001b[0;32mexcept\u001b[0m \u001b[0mStopIteration\u001b[0m\u001b[0;34m:\u001b[0m\u001b[0;34m\u001b[0m\u001b[0m\n",
      "\u001b[0;32m/Users/mqbssaby/anaconda/lib/python3.5/site-packages/tensorflow/python/framework/errors.py\u001b[0m in \u001b[0;36mraise_exception_on_not_ok_status\u001b[0;34m()\u001b[0m\n\u001b[1;32m    449\u001b[0m           \u001b[0mcompat\u001b[0m\u001b[0;34m.\u001b[0m\u001b[0mas_text\u001b[0m\u001b[0;34m(\u001b[0m\u001b[0mpywrap_tensorflow\u001b[0m\u001b[0;34m.\u001b[0m\u001b[0mTF_Message\u001b[0m\u001b[0;34m(\u001b[0m\u001b[0mstatus\u001b[0m\u001b[0;34m)\u001b[0m\u001b[0;34m)\u001b[0m\u001b[0;34m,\u001b[0m\u001b[0;34m\u001b[0m\u001b[0m\n\u001b[0;32m--> 450\u001b[0;31m           pywrap_tensorflow.TF_GetCode(status))\n\u001b[0m\u001b[1;32m    451\u001b[0m   \u001b[0;32mfinally\u001b[0m\u001b[0;34m:\u001b[0m\u001b[0;34m\u001b[0m\u001b[0m\n",
      "\u001b[0;31mInvalidArgumentError\u001b[0m: You must feed a value for placeholder tensor 'Bv' with dtype double and shape [1,1]\n\t [[Node: Bv = Placeholder[dtype=DT_DOUBLE, shape=[1,1], _device=\"/job:localhost/replica:0/task:0/cpu:0\"]()]]",
      "\nDuring handling of the above exception, another exception occurred:\n",
      "\u001b[0;31mInvalidArgumentError\u001b[0m                      Traceback (most recent call last)",
      "\u001b[0;32m<ipython-input-7-29417a036513>\u001b[0m in \u001b[0;36m<module>\u001b[0;34m()\u001b[0m\n\u001b[1;32m     22\u001b[0m \u001b[0mm\u001b[0m\u001b[0;34m.\u001b[0m\u001b[0mlikelihood\u001b[0m\u001b[0;34m.\u001b[0m\u001b[0mvariance\u001b[0m \u001b[0;34m=\u001b[0m \u001b[0;36m1\u001b[0m\u001b[0;34m\u001b[0m\u001b[0m\n\u001b[1;32m     23\u001b[0m \u001b[0mm\u001b[0m\u001b[0;34m.\u001b[0m\u001b[0mkern\u001b[0m\u001b[0;34m.\u001b[0m\u001b[0mbranchkernelparam\u001b[0m\u001b[0;34m.\u001b[0m\u001b[0mBv\u001b[0m \u001b[0;34m=\u001b[0m \u001b[0mBvalue\u001b[0m\u001b[0;34m\u001b[0m\u001b[0m\n\u001b[0;32m---> 24\u001b[0;31m \u001b[0mm\u001b[0m\u001b[0;34m.\u001b[0m\u001b[0mCompileAssignmentProbability\u001b[0m\u001b[0;34m(\u001b[0m\u001b[0mfDebug\u001b[0m\u001b[0;34m=\u001b[0m\u001b[0;32mTrue\u001b[0m\u001b[0;34m,\u001b[0m\u001b[0mfMAP\u001b[0m\u001b[0;34m=\u001b[0m\u001b[0;32mTrue\u001b[0m\u001b[0;34m)\u001b[0m\u001b[0;34m\u001b[0m\u001b[0m\n\u001b[0m\u001b[1;32m     25\u001b[0m \u001b[0;34m\u001b[0m\u001b[0m\n\u001b[1;32m     26\u001b[0m \u001b[0mprint\u001b[0m\u001b[0;34m(\u001b[0m\u001b[0mm\u001b[0m\u001b[0;34m.\u001b[0m\u001b[0mXExpanded\u001b[0m\u001b[0;34m.\u001b[0m\u001b[0mshape\u001b[0m\u001b[0;34m)\u001b[0m\u001b[0;34m\u001b[0m\u001b[0m\n",
      "\u001b[0;32m/Users/mqbssaby/pythonprojects/BranchedGP/AssignGPGibbsSingleLoop.py\u001b[0m in \u001b[0;36mCompileAssignmentProbability\u001b[0;34m(self, fDebug, fMAP)\u001b[0m\n\u001b[1;32m    156\u001b[0m                     \u001b[0mK\u001b[0m \u001b[0;34m=\u001b[0m \u001b[0mself\u001b[0m\u001b[0;34m.\u001b[0m\u001b[0mkern\u001b[0m\u001b[0;34m.\u001b[0m\u001b[0mK\u001b[0m\u001b[0;34m(\u001b[0m\u001b[0mself\u001b[0m\u001b[0;34m.\u001b[0m\u001b[0mXExpanded\u001b[0m\u001b[0;34m)\u001b[0m \u001b[0;34m+\u001b[0m \u001b[0mGPflow\u001b[0m\u001b[0;34m.\u001b[0m\u001b[0mtf_hacks\u001b[0m\u001b[0;34m.\u001b[0m\u001b[0meye\u001b[0m\u001b[0;34m(\u001b[0m\u001b[0mM\u001b[0m\u001b[0;34m)\u001b[0m\u001b[0;34m*\u001b[0m\u001b[0;36m1e-6\u001b[0m\u001b[0;34m\u001b[0m\u001b[0m\n\u001b[1;32m    157\u001b[0m                     \u001b[0mL\u001b[0m \u001b[0;34m=\u001b[0m \u001b[0mtf\u001b[0m\u001b[0;34m.\u001b[0m\u001b[0mcholesky\u001b[0m\u001b[0;34m(\u001b[0m\u001b[0mK\u001b[0m\u001b[0;34m)\u001b[0m\u001b[0;34m\u001b[0m\u001b[0m\n\u001b[0;32m--> 158\u001b[0;31m                     \u001b[0mself\u001b[0m\u001b[0;34m.\u001b[0m\u001b[0mKChol\u001b[0m \u001b[0;34m=\u001b[0m \u001b[0mself\u001b[0m\u001b[0;34m.\u001b[0m\u001b[0m_session\u001b[0m\u001b[0;34m.\u001b[0m\u001b[0mrun\u001b[0m\u001b[0;34m(\u001b[0m\u001b[0mL\u001b[0m\u001b[0;34m,\u001b[0m \u001b[0mfeed_dict\u001b[0m\u001b[0;34m=\u001b[0m\u001b[0;34m{\u001b[0m\u001b[0mself\u001b[0m\u001b[0;34m.\u001b[0m\u001b[0m_free_vars\u001b[0m\u001b[0;34m:\u001b[0m \u001b[0mself\u001b[0m\u001b[0;34m.\u001b[0m\u001b[0mget_free_state\u001b[0m\u001b[0;34m(\u001b[0m\u001b[0;34m)\u001b[0m\u001b[0;34m}\u001b[0m\u001b[0;34m)\u001b[0m\u001b[0;34m\u001b[0m\u001b[0m\n\u001b[0m\u001b[1;32m    159\u001b[0m             \u001b[0;32melse\u001b[0m\u001b[0;34m:\u001b[0m  \u001b[0;31m# sparse GP\u001b[0m\u001b[0;34m\u001b[0m\u001b[0m\n\u001b[1;32m    160\u001b[0m                 \u001b[0mM\u001b[0m \u001b[0;34m=\u001b[0m \u001b[0mself\u001b[0m\u001b[0;34m.\u001b[0m\u001b[0mZExpanded\u001b[0m\u001b[0;34m.\u001b[0m\u001b[0mshape\u001b[0m\u001b[0;34m[\u001b[0m\u001b[0;36m0\u001b[0m\u001b[0;34m]\u001b[0m\u001b[0;34m\u001b[0m\u001b[0m\n",
      "\u001b[0;32m/Users/mqbssaby/anaconda/lib/python3.5/site-packages/tensorflow/python/client/session.py\u001b[0m in \u001b[0;36mrun\u001b[0;34m(self, fetches, feed_dict, options, run_metadata)\u001b[0m\n\u001b[1;32m    380\u001b[0m     \u001b[0;32mtry\u001b[0m\u001b[0;34m:\u001b[0m\u001b[0;34m\u001b[0m\u001b[0m\n\u001b[1;32m    381\u001b[0m       result = self._run(None, fetches, feed_dict, options_ptr,\n\u001b[0;32m--> 382\u001b[0;31m                          run_metadata_ptr)\n\u001b[0m\u001b[1;32m    383\u001b[0m       \u001b[0;32mif\u001b[0m \u001b[0mrun_metadata\u001b[0m\u001b[0;34m:\u001b[0m\u001b[0;34m\u001b[0m\u001b[0m\n\u001b[1;32m    384\u001b[0m         \u001b[0mproto_data\u001b[0m \u001b[0;34m=\u001b[0m \u001b[0mtf_session\u001b[0m\u001b[0;34m.\u001b[0m\u001b[0mTF_GetBuffer\u001b[0m\u001b[0;34m(\u001b[0m\u001b[0mrun_metadata_ptr\u001b[0m\u001b[0;34m)\u001b[0m\u001b[0;34m\u001b[0m\u001b[0m\n",
      "\u001b[0;32m/Users/mqbssaby/anaconda/lib/python3.5/site-packages/tensorflow/python/client/session.py\u001b[0m in \u001b[0;36m_run\u001b[0;34m(self, handle, fetches, feed_dict, options, run_metadata)\u001b[0m\n\u001b[1;32m    653\u001b[0m     \u001b[0mmovers\u001b[0m \u001b[0;34m=\u001b[0m \u001b[0mself\u001b[0m\u001b[0;34m.\u001b[0m\u001b[0m_update_with_movers\u001b[0m\u001b[0;34m(\u001b[0m\u001b[0mfeed_dict_string\u001b[0m\u001b[0;34m,\u001b[0m \u001b[0mfeed_map\u001b[0m\u001b[0;34m)\u001b[0m\u001b[0;34m\u001b[0m\u001b[0m\n\u001b[1;32m    654\u001b[0m     results = self._do_run(handle, target_list, unique_fetches,\n\u001b[0;32m--> 655\u001b[0;31m                            feed_dict_string, options, run_metadata)\n\u001b[0m\u001b[1;32m    656\u001b[0m \u001b[0;34m\u001b[0m\u001b[0m\n\u001b[1;32m    657\u001b[0m     \u001b[0;31m# User may have fetched the same tensor multiple times, but we\u001b[0m\u001b[0;34m\u001b[0m\u001b[0;34m\u001b[0m\u001b[0m\n",
      "\u001b[0;32m/Users/mqbssaby/anaconda/lib/python3.5/site-packages/tensorflow/python/client/session.py\u001b[0m in \u001b[0;36m_do_run\u001b[0;34m(self, handle, target_list, fetch_list, feed_dict, options, run_metadata)\u001b[0m\n\u001b[1;32m    721\u001b[0m     \u001b[0;32mif\u001b[0m \u001b[0mhandle\u001b[0m \u001b[0;32mis\u001b[0m \u001b[0;32mNone\u001b[0m\u001b[0;34m:\u001b[0m\u001b[0;34m\u001b[0m\u001b[0m\n\u001b[1;32m    722\u001b[0m       return self._do_call(_run_fn, self._session, feed_dict, fetch_list,\n\u001b[0;32m--> 723\u001b[0;31m                            target_list, options, run_metadata)\n\u001b[0m\u001b[1;32m    724\u001b[0m     \u001b[0;32melse\u001b[0m\u001b[0;34m:\u001b[0m\u001b[0;34m\u001b[0m\u001b[0m\n\u001b[1;32m    725\u001b[0m       return self._do_call(_prun_fn, self._session, handle, feed_dict,\n",
      "\u001b[0;32m/Users/mqbssaby/anaconda/lib/python3.5/site-packages/tensorflow/python/client/session.py\u001b[0m in \u001b[0;36m_do_call\u001b[0;34m(self, fn, *args)\u001b[0m\n\u001b[1;32m    741\u001b[0m         \u001b[0;32mexcept\u001b[0m \u001b[0mKeyError\u001b[0m\u001b[0;34m:\u001b[0m\u001b[0;34m\u001b[0m\u001b[0m\n\u001b[1;32m    742\u001b[0m           \u001b[0;32mpass\u001b[0m\u001b[0;34m\u001b[0m\u001b[0m\n\u001b[0;32m--> 743\u001b[0;31m       \u001b[0;32mraise\u001b[0m \u001b[0mtype\u001b[0m\u001b[0;34m(\u001b[0m\u001b[0me\u001b[0m\u001b[0;34m)\u001b[0m\u001b[0;34m(\u001b[0m\u001b[0mnode_def\u001b[0m\u001b[0;34m,\u001b[0m \u001b[0mop\u001b[0m\u001b[0;34m,\u001b[0m \u001b[0mmessage\u001b[0m\u001b[0;34m)\u001b[0m\u001b[0;34m\u001b[0m\u001b[0m\n\u001b[0m\u001b[1;32m    744\u001b[0m \u001b[0;34m\u001b[0m\u001b[0m\n\u001b[1;32m    745\u001b[0m   \u001b[0;32mdef\u001b[0m \u001b[0m_extend_graph\u001b[0m\u001b[0;34m(\u001b[0m\u001b[0mself\u001b[0m\u001b[0;34m)\u001b[0m\u001b[0;34m:\u001b[0m\u001b[0;34m\u001b[0m\u001b[0m\n",
      "\u001b[0;31mInvalidArgumentError\u001b[0m: You must feed a value for placeholder tensor 'Bv' with dtype double and shape [1,1]\n\t [[Node: Bv = Placeholder[dtype=DT_DOUBLE, shape=[1,1], _device=\"/job:localhost/replica:0/task:0/cpu:0\"]()]]\nCaused by op 'Bv', defined at:\n  File \"/Users/mqbssaby/anaconda/lib/python3.5/runpy.py\", line 184, in _run_module_as_main\n    \"__main__\", mod_spec)\n  File \"/Users/mqbssaby/anaconda/lib/python3.5/runpy.py\", line 85, in _run_code\n    exec(code, run_globals)\n  File \"/Users/mqbssaby/anaconda/lib/python3.5/site-packages/ipykernel/__main__.py\", line 3, in <module>\n    app.launch_new_instance()\n  File \"/Users/mqbssaby/anaconda/lib/python3.5/site-packages/traitlets/config/application.py\", line 596, in launch_instance\n    app.start()\n  File \"/Users/mqbssaby/anaconda/lib/python3.5/site-packages/ipykernel/kernelapp.py\", line 442, in start\n    ioloop.IOLoop.instance().start()\n  File \"/Users/mqbssaby/anaconda/lib/python3.5/site-packages/zmq/eventloop/ioloop.py\", line 162, in start\n    super(ZMQIOLoop, self).start()\n  File \"/Users/mqbssaby/anaconda/lib/python3.5/site-packages/tornado/ioloop.py\", line 883, in start\n    handler_func(fd_obj, events)\n  File \"/Users/mqbssaby/anaconda/lib/python3.5/site-packages/tornado/stack_context.py\", line 275, in null_wrapper\n    return fn(*args, **kwargs)\n  File \"/Users/mqbssaby/anaconda/lib/python3.5/site-packages/zmq/eventloop/zmqstream.py\", line 440, in _handle_events\n    self._handle_recv()\n  File \"/Users/mqbssaby/anaconda/lib/python3.5/site-packages/zmq/eventloop/zmqstream.py\", line 472, in _handle_recv\n    self._run_callback(callback, msg)\n  File \"/Users/mqbssaby/anaconda/lib/python3.5/site-packages/zmq/eventloop/zmqstream.py\", line 414, in _run_callback\n    callback(*args, **kwargs)\n  File \"/Users/mqbssaby/anaconda/lib/python3.5/site-packages/tornado/stack_context.py\", line 275, in null_wrapper\n    return fn(*args, **kwargs)\n  File \"/Users/mqbssaby/anaconda/lib/python3.5/site-packages/ipykernel/kernelbase.py\", line 276, in dispatcher\n    return self.dispatch_shell(stream, msg)\n  File \"/Users/mqbssaby/anaconda/lib/python3.5/site-packages/ipykernel/kernelbase.py\", line 228, in dispatch_shell\n    handler(stream, idents, msg)\n  File \"/Users/mqbssaby/anaconda/lib/python3.5/site-packages/ipykernel/kernelbase.py\", line 391, in execute_request\n    user_expressions, allow_stdin)\n  File \"/Users/mqbssaby/anaconda/lib/python3.5/site-packages/ipykernel/ipkernel.py\", line 199, in do_execute\n    shell.run_cell(code, store_history=store_history, silent=silent)\n  File \"/Users/mqbssaby/anaconda/lib/python3.5/site-packages/IPython/core/interactiveshell.py\", line 2723, in run_cell\n    interactivity=interactivity, compiler=compiler, result=result)\n  File \"/Users/mqbssaby/anaconda/lib/python3.5/site-packages/IPython/core/interactiveshell.py\", line 2825, in run_ast_nodes\n    if self.run_code(code, result):\n  File \"/Users/mqbssaby/anaconda/lib/python3.5/site-packages/IPython/core/interactiveshell.py\", line 2885, in run_code\n    exec(code_obj, self.user_global_ns, self.user_ns)\n  File \"<ipython-input-7-29417a036513>\", line 18, in <module>\n    Kbranch.branchkernelparam.Bv.fixed = True\n  File \"/Users/mqbssaby/pythonlibs/GPflow/GPflow/param.py\", line 289, in __setattr__\n    name=self.name)\n  File \"/Users/mqbssaby/anaconda/lib/python3.5/site-packages/tensorflow/python/ops/array_ops.py\", line 1274, in placeholder\n    name=name)\n  File \"/Users/mqbssaby/anaconda/lib/python3.5/site-packages/tensorflow/python/ops/gen_array_ops.py\", line 1522, in _placeholder\n    name=name)\n  File \"/Users/mqbssaby/anaconda/lib/python3.5/site-packages/tensorflow/python/framework/op_def_library.py\", line 703, in apply_op\n    op_def=op_def)\n  File \"/Users/mqbssaby/anaconda/lib/python3.5/site-packages/tensorflow/python/framework/ops.py\", line 2310, in create_op\n    original_op=self._default_original_op, op_def=op_def)\n  File \"/Users/mqbssaby/anaconda/lib/python3.5/site-packages/tensorflow/python/framework/ops.py\", line 1232, in __init__\n    self._traceback = _extract_stack()\n"
     ]
    }
   ],
   "source": [
    "# Initialise model\n",
    "# kernel\n",
    "Bvalue = np.ones((1,1)) * 0.5 \n",
    "print(Bvalue)\n",
    "\n",
    "tree = bt.BinaryBranchingTree(0,1,fDebug=False)\n",
    "tree.add(None,1,Bvalue) \n",
    "(fm, _) = tree.GetFunctionBranchTensor()\n",
    "\n",
    "print(fm)\n",
    "\n",
    "Kbranch = bk.BranchKernelParam(GPflow.kernels.Matern32(1), fm, BvInitial=Bvalue) + GPflow.kernels.White(1)\n",
    "varianceLik = .001\n",
    "Kbranch.white.variance = varianceLik # controls the discontinuity magnitude, the gap at the branching point\n",
    "Kbranch.branchkernelparam.kern.lengthscales = 5\n",
    "Kbranch.branchkernelparam.kern.variance = 1\n",
    "Kbranch.branchkernelparam.Bv = Bvalue\n",
    "Kbranch.branchkernelparam.Bv.fixed = True\n",
    "\n",
    "\n",
    "m = AssignGPGibbsSingleLoop.AssignGPGibbsFast(t, Y, Kbranch)\n",
    "m.likelihood.variance = 1\n",
    "m.kern.branchkernelparam.Bv = Bvalue\n",
    "m.CompileAssignmentProbability(fDebug=True,fMAP=True) \n",
    "\n",
    "print(m.XExpanded.shape)\n",
    "print(len(m.indices))\n",
    "#print XSampleGeneral\n",
    "\n",
    "mV = assigngp_dense.AssignGP(t, m.XExpanded, Y, Kbranch)\n",
    "mV.likelihood.variance = varianceLik\n",
    "mV._compile() # creates objective function\n",
    "\n",
    "randomAssignment = AssignGPGibbsSingleLoop.GetRandomInit(t,Bvalue,m.indices)\n",
    "print(randomAssignment)\n",
    "print (m.XExpanded[randomAssignment,:])"
   ]
  },
  {
   "cell_type": "markdown",
   "metadata": {},
   "source": [
    "# MAP inference"
   ]
  },
  {
   "cell_type": "code",
   "execution_count": 5,
   "metadata": {
    "collapsed": false,
    "scrolled": false
   },
   "outputs": [
    {
     "name": "stdout",
     "output_type": "stream",
     "text": [
      "Performing MAP inference with B=[ 0.5]\n",
      "Processing point 10 with inds [30, 31, 32]\n",
      "Processing point 11 with inds [33, 34, 35]\n",
      "Processing point 12 with inds [36, 37, 38]\n",
      "Processing point 13 with inds [39, 40, 41]\n",
      "Processing point 14 with inds [42, 43, 44]\n",
      "Processing point 15 with inds [45, 46, 47]\n",
      "Processing point 16 with inds [48, 49, 50]\n",
      "Processing point 17 with inds [51, 52, 53]\n",
      "Processing point 18 with inds [54, 55, 56]\n",
      "Processing point 19 with inds [57, 58, 59]\n",
      "Iteration 0/10, lik=-31.545\n",
      "Processing point 10 with inds [30, 31, 32]\n",
      "Processing point 11 with inds [33, 34, 35]\n",
      "Processing point 12 with inds [36, 37, 38]\n",
      "Processing point 13 with inds [39, 40, 41]\n",
      "Processing point 14 with inds [42, 43, 44]\n",
      "Processing point 15 with inds [45, 46, 47]\n",
      "Processing point 16 with inds [48, 49, 50]\n",
      "Processing point 17 with inds [51, 52, 53]\n",
      "Processing point 18 with inds [54, 55, 56]\n",
      "Processing point 19 with inds [57, 58, 59]\n",
      "Iteration 1/10, lik=-31.545\n",
      "Processing point 10 with inds [30, 31, 32]\n",
      "Processing point 11 with inds [33, 34, 35]\n",
      "Processing point 12 with inds [36, 37, 38]\n",
      "Processing point 13 with inds [39, 40, 41]\n",
      "Processing point 14 with inds [42, 43, 44]\n",
      "Processing point 15 with inds [45, 46, 47]\n",
      "Processing point 16 with inds [48, 49, 50]\n",
      "Processing point 17 with inds [51, 52, 53]\n",
      "Processing point 18 with inds [54, 55, 56]\n",
      "Processing point 19 with inds [57, 58, 59]\n",
      "Iteration 2/10, lik=-31.545\n",
      "Converged after 2 iterations, lik=-31.545\n"
     ]
    }
   ],
   "source": [
    "numMCMCsteps = 10\n",
    "#bestAssignment = list(randomAssignment)\n",
    "#chainState = np.ones(10)\n",
    "(chainState, bestAssignment,assignmentHistory,condProbs)= m.InferenceGibbsMAP(fDebug=True,fReturnAssignmentHistory=True\\\n",
    "                                                            ,maximumNumberOfSteps=numMCMCsteps,startingAssignment=randomAssignment)\n"
   ]
  },
  {
   "cell_type": "code",
   "execution_count": 6,
   "metadata": {
    "collapsed": false
   },
   "outputs": [
    {
     "name": "stdout",
     "output_type": "stream",
     "text": [
      "MAP Assignment probabilities\n",
      "[ 0.5009  0.4991]\n",
      "[ 0.4969  0.5031]\n",
      "[ 0.5073  0.4927]\n",
      "[ 0.4866  0.5134]\n",
      "[ 0.5253  0.4747]\n",
      "[ 0.4698  0.5302]\n",
      "[ 0.5379  0.4621]\n",
      "[ 0.433  0.567]\n",
      "[ 0.5783  0.4217]\n",
      "[ 0.4143  0.5857]\n",
      "[ 0.5032  0.4968]\n",
      "[ 0.4899  0.5101]\n",
      "[ 0.5187  0.4813]\n",
      "[ 0.4729  0.5271]\n",
      "[ 0.5377  0.4623]\n",
      "[ 0.4532  0.5468]\n",
      "[ 0.5583  0.4417]\n",
      "[ 0.433  0.567]\n",
      "[ 0.5783  0.4217]\n",
      "[ 0.4143  0.5857]\n",
      "[ 0.5032  0.4968]\n",
      "[ 0.4899  0.5101]\n",
      "[ 0.5187  0.4813]\n",
      "[ 0.4729  0.5271]\n",
      "[ 0.5377  0.4623]\n",
      "[ 0.4532  0.5468]\n",
      "[ 0.5583  0.4417]\n",
      "[ 0.433  0.567]\n",
      "[ 0.5783  0.4217]\n",
      "[ 0.4143  0.5857]\n"
     ]
    }
   ],
   "source": [
    "print 'MAP Assignment probabilities'\n",
    "for c in condProbs:\n",
    "    e = np.exp(c) # convert log like to like\n",
    "    print e / np.sum(e)"
   ]
  },
  {
   "cell_type": "code",
   "execution_count": 7,
   "metadata": {
    "collapsed": false
   },
   "outputs": [
    {
     "name": "stdout",
     "output_type": "stream",
     "text": [
      "MAP Allocation of points\n",
      "[[ 0.      1.    ]\n",
      " [ 0.0526  1.    ]\n",
      " [ 0.1053  1.    ]\n",
      " [ 0.1579  1.    ]\n",
      " [ 0.2105  1.    ]\n",
      " [ 0.2632  1.    ]\n",
      " [ 0.3158  1.    ]\n",
      " [ 0.3684  1.    ]\n",
      " [ 0.4211  1.    ]\n",
      " [ 0.4737  1.    ]\n",
      " [ 0.5263  2.    ]\n",
      " [ 0.5789  3.    ]\n",
      " [ 0.6316  2.    ]\n",
      " [ 0.6842  3.    ]\n",
      " [ 0.7368  2.    ]\n",
      " [ 0.7895  3.    ]\n",
      " [ 0.8421  2.    ]\n",
      " [ 0.8947  3.    ]\n",
      " [ 0.9474  2.    ]\n",
      " [ 1.      3.    ]]\n",
      "MAP Allocation of points function A\n",
      "[[ 0.5263  2.    ]\n",
      " [ 0.6316  2.    ]\n",
      " [ 0.7368  2.    ]\n",
      " [ 0.8421  2.    ]\n",
      " [ 0.9474  2.    ]]\n",
      "MAP Allocation of points function B\n",
      "[[ 0.5789  3.    ]\n",
      " [ 0.6842  3.    ]\n",
      " [ 0.7895  3.    ]\n",
      " [ 0.8947  3.    ]\n",
      " [ 1.      3.    ]]\n"
     ]
    }
   ],
   "source": [
    "# Check correct classification of points\n",
    "allocationOfPoints = m.XExpanded[bestAssignment,:]\n",
    "print 'MAP Allocation of points'\n",
    "print allocationOfPoints\n",
    "print 'MAP Allocation of points function A'\n",
    "print allocationOfPoints[idxA,:]\n",
    "print 'MAP Allocation of points function B'\n",
    "print allocationOfPoints[idxB,:]\n",
    "assert np.unique(allocationOfPoints[idxA,1]) == 2\n",
    "assert np.unique(allocationOfPoints[idxB,1]) == 3"
   ]
  },
  {
   "cell_type": "code",
   "execution_count": 8,
   "metadata": {
    "collapsed": false,
    "scrolled": false
   },
   "outputs": [
    {
     "name": "stdout",
     "output_type": "stream",
     "text": [
      "[[0, 1, 2], [3, 4, 5], [6, 7, 8], [9, 10, 11], [12, 13, 14], [15, 16, 17], [18, 19, 20], [21, 22, 23], [24, 25, 26], [27, 28, 29], [30, 31, 32], [33, 34, 35], [36, 37, 38], [39, 40, 41], [42, 43, 44], [45, 46, 47], [48, 49, 50], [51, 52, 53], [54, 55, 56], [57, 58, 59]]\n",
      "30\n",
      "Phi0=\n",
      "[  9.9733e-01   4.5279e-05   4.5279e-05   4.5279e-05   4.5279e-05\n",
      "   4.5279e-05   4.5279e-05   4.5279e-05   4.5279e-05   4.5279e-05\n",
      "   4.5279e-05   4.5279e-05   4.5279e-05   4.5279e-05   4.5279e-05\n",
      "   4.5279e-05   4.5279e-05   4.5279e-05   4.5279e-05   4.5279e-05\n",
      "   4.5279e-05   4.5279e-05   4.5279e-05   4.5279e-05   4.5279e-05\n",
      "   4.5279e-05   4.5279e-05   4.5279e-05   4.5279e-05   4.5279e-05\n",
      "   4.5279e-05   4.5279e-05   4.5279e-05   4.5279e-05   4.5279e-05\n",
      "   4.5279e-05   4.5279e-05   4.5279e-05   4.5279e-05   4.5279e-05\n",
      "   4.5279e-05   4.5279e-05   4.5279e-05   4.5279e-05   4.5279e-05\n",
      "   4.5279e-05   4.5279e-05   4.5279e-05   4.5279e-05   4.5279e-05\n",
      "   4.5279e-05   4.5279e-05   4.5279e-05   4.5279e-05   4.5279e-05\n",
      "   4.5279e-05   4.5279e-05   4.5279e-05   4.5279e-05   4.5279e-05]\n",
      "PhiIWant0\n",
      "[ 1.  0.  0.  0.  0.  0.  0.  0.  0.  0.  0.  0.  0.  0.  0.  0.  0.  0.\n",
      "  0.  0.  0.  0.  0.  0.  0.  0.  0.  0.  0.  0.  0.  0.  0.  0.  0.  0.\n",
      "  0.  0.  0.  0.  0.  0.  0.  0.  0.  0.  0.  0.  0.  0.  0.  0.  0.  0.\n",
      "  0.  0.  0.  0.  0.  0.]\n",
      "Phi=\n",
      "[  1.2253e-04   1.2253e-04   1.2253e-04   1.2253e-04   1.2253e-04\n",
      "   1.2253e-04   1.2253e-04   1.2253e-04   1.2253e-04   1.2253e-04\n",
      "   1.2253e-04   1.2253e-04   1.2253e-04   1.2253e-04   1.2253e-04\n",
      "   1.2253e-04   1.2253e-04   1.2253e-04   1.2253e-04   1.2253e-04\n",
      "   1.2253e-04   1.2253e-04   1.2253e-04   1.2253e-04   1.2253e-04\n",
      "   1.2253e-04   1.2253e-04   1.2253e-04   1.2253e-04   1.2253e-04\n",
      "   1.2253e-04   1.2253e-04   1.2253e-04   1.2253e-04   1.2253e-04\n",
      "   1.2253e-04   1.2253e-04   1.2253e-04   1.2253e-04   1.2253e-04\n",
      "   1.2253e-04   1.2253e-04   1.2253e-04   1.2253e-04   1.2253e-04\n",
      "   1.2253e-04   1.2253e-04   1.2253e-04   1.2253e-04   1.2253e-04\n",
      "   1.2253e-04   1.2253e-04   1.2253e-04   1.2253e-04   1.2253e-04\n",
      "   1.2253e-04   1.2253e-04   1.2253e-04   4.1139e-01   5.8150e-01]\n",
      "PhiIWant\n",
      "[ 0.      0.      0.      0.      0.      0.      0.      0.      0.      0.\n",
      "  0.      0.      0.      0.      0.      0.      0.      0.      0.      0.\n",
      "  0.      0.      0.      0.      0.      0.      0.      0.      0.      0.\n",
      "  0.      0.      0.      0.      0.      0.      0.      0.      0.      0.\n",
      "  0.      0.      0.      0.      0.      0.      0.      0.      0.      0.\n",
      "  0.      0.      0.      0.      0.      0.      0.      0.      0.4143\n",
      "  0.5857]\n",
      "phiInitial_invSoftmax\n",
      "[-9.     -9.     -9.     -9.     -9.     -9.     -9.     -9.     -9.     -9.\n",
      " -9.     -9.     -9.     -9.     -9.     -9.     -9.     -9.     -9.     -9.\n",
      " -9.     -9.     -9.     -9.     -9.     -9.     -9.     -9.     -9.     -9.\n",
      " -9.     -9.     -9.     -9.     -9.     -9.     -9.     -9.     -9.     -9.\n",
      " -9.     -9.     -9.     -9.     -9.     -9.     -9.     -9.     -9.     -9.\n",
      " -9.     -9.     -9.     -9.     -9.     -9.     -9.     -9.     -0.8811\n",
      " -0.535 ]\n"
     ]
    }
   ],
   "source": [
    "# Convert MAP assignments to Phi probabilities : soft or hard assignment\n",
    "# Soft assignment uses the Gibbs conditional probabilities at convergence\n",
    "# Hard assignment uses the MAP assignment setting Phi to 1 for that entry\n",
    "#\n",
    "fSoftAssignment = True\n",
    "\n",
    "if(fSoftAssignment):\n",
    "    print m.indices\n",
    "    Bv = m.kern.branchkernelparam.Bv._array.flatten()\n",
    "    N = len(m.indices)\n",
    "    print len(condProbs)\n",
    "    MAPAssignmentProbabilities = []\n",
    "    for c in condProbs:\n",
    "        e = np.exp(c) # convert log like to like\n",
    "        MAPAssignmentProbabilities.append(e / np.sum(e))\n",
    "\n",
    "    phiInitial = np.zeros((N,3*N))\n",
    "    phiInitial_invSoftmax =  -9.* np.ones((N,3*N)) # large neg number makes exact zeros, make smaller for added jitter \n",
    "    ct = 1\n",
    "    for i, n in reversed(list(enumerate(bestAssignment))):\n",
    "        #print '----------->' + str(i) + ','+str(n)\n",
    "        if(m.t[i] > Bv):\n",
    "            # after branch point - we look at assignment probabilities\n",
    "            ind = m.indices[i][1:] # single branching point special case - just take second and third indics\n",
    "            mCond = MAPAssignmentProbabilities[-ct] # backwards\n",
    "            for p,indxi in enumerate(ind):\n",
    "                # print str(i) + ' ' + str(indxi) + '=' + str(mCond[p])\n",
    "                phiInitial[i,indxi] = mCond[p] # 19. * mCond[p] - 9.\n",
    "                phiInitial_invSoftmax[i,indxi] = np.log(mCond[p])  \n",
    "            ct += 1\n",
    "        else:\n",
    "            # before branch point - we know with certainty\n",
    "            phiInitial[i,n] = 1\n",
    "            phiInitial_invSoftmax[i,n] = 1 # 10\n",
    "            #print str(i) + ' ' + str(n) + '=' + str(mCond[p])\n",
    "\n",
    "    #print 'X'\n",
    "    #print m.t\n",
    "    #print 'MAP conditionals'\n",
    "    #print MAPAssignmentProbabilities[20:]\n",
    "    #print 'PhiInitial'\n",
    "    #print phiInitial\n",
    "else:\n",
    "    # hard assignment\n",
    "    # Set state for assignments\n",
    "    phiInitial = np.zeros((N,3*N))\n",
    "    phiInitial_invSoftmax =  np.zeros((N,3*N)) # large neg number makes exact zeros, make smaller for added jitter \n",
    "    for i,n in enumerate(bestAssignment):\n",
    "        phiInitial[i,n] = 1\n",
    "        phiInitial_invSoftmax[i,n] = 10\n",
    "\n",
    "###########################################\n",
    "\n",
    "# Try to understand Phi matrix\n",
    "mV.logPhi= phiInitial_invSoftmax\n",
    "\n",
    "# Phi = mV.GetPhi() does the same\n",
    "#parameterVector = tf.placeholder(\"float64\") # Needed by GPflow\n",
    "with mV.tf_mode():\n",
    "    Phi_s = tf.nn.softmax(mV.logPhi)\n",
    "Phi = mV._session.run(Phi_s, feed_dict={mV._free_vars:mV.get_free_state()})\n",
    "\n",
    "# Print first and last entry in the Phi matrix and it's initial value - that should match\n",
    "print 'Phi0=' \n",
    "print Phi[0,:]\n",
    "print  'PhiIWant0'\n",
    "print phiInitial[0,:]\n",
    "#print mV.logPhi._array[19]\n",
    "\n",
    "print 'Phi=' \n",
    "print Phi[19,:]\n",
    "print  'PhiIWant'\n",
    "print phiInitial[19,:]\n",
    "print  'phiInitial_invSoftmax'\n",
    "print phiInitial_invSoftmax[19,:]\n",
    "#print mV.logPhi._array[19]"
   ]
  },
  {
   "cell_type": "markdown",
   "metadata": {},
   "source": [
    "# Variational inference"
   ]
  },
  {
   "cell_type": "code",
   "execution_count": 9,
   "metadata": {
    "collapsed": false
   },
   "outputs": [
    {
     "name": "stdout",
     "output_type": "stream",
     "text": [
      "model.likelihood.\\u001b[1mvariance\\u001b[0m transform:+ve prior:None\n",
      "[ 0.001]\n",
      "model.kern.white.\\u001b[1mvariance\\u001b[0m transform:+ve prior:None\n",
      "[ 0.001]\n",
      "model.kern.branchkernelparam.\\u001b[1mBv\\u001b[0m transform:(none) prior:None [FIXED]\n",
      "[[ 0.5]]\n",
      "model.kern.branchkernelparam.kern.\\u001b[1mvariance\\u001b[0m transform:+ve prior:None\n",
      "[ 1.]\n",
      "model.kern.branchkernelparam.kern.\\u001b[1mlengthscales\\u001b[0m transform:+ve prior:None\n",
      "[ 5.]\n",
      "model.\\u001b[1mlogPhi\\u001b[0m transform:(none) prior:None\n",
      "[[ 1.     -9.     -9.     ..., -9.     -9.     -9.    ]\n",
      " [-9.     -9.     -9.     ..., -9.     -9.     -9.    ]\n",
      " [-9.     -9.     -9.     ..., -9.     -9.     -9.    ]\n",
      " ..., \n",
      " [-9.     -9.     -9.     ..., -9.     -9.     -9.    ]\n",
      " [-9.     -9.     -9.     ..., -9.     -9.     -9.    ]\n",
      " [-9.     -9.     -9.     ..., -9.     -0.8811 -0.535 ]]\n",
      "\n",
      "Variational kernel branch value []\n",
      "[ 7815.1278]\n"
     ]
    }
   ],
   "source": [
    "# VB code\n",
    "# Variational bound - no recomputing\n",
    "print mV\n",
    "print 'Variational kernel branch value ' + str(mV.kern.branchkernelparam.Bv.get_free_state())\n",
    "# Could also optimize!\n",
    "VBbound = mV._objective(mV.get_free_state())[0] # this is -log of bound\n",
    "print VBbound"
   ]
  },
  {
   "cell_type": "code",
   "execution_count": 10,
   "metadata": {
    "collapsed": false
   },
   "outputs": [
    {
     "data": {
      "text/html": [
       "<table id='parms' width=100%><tr><td>Name</td><td>values</td><td>prior</td><td>constriant</td></tr><tr><td>model.likelihood.variance</td><td>[ 0.001]</td><td>None</td><td>+ve</td></tr><tr><td>model.kern.white.variance</td><td>[ 0.001]</td><td>None</td><td>+ve</td></tr><tr><td>model.kern.branchkernelparam.Bv</td><td>[[ 0.5]]</td><td>None</td><td>[FIXED]</td></tr><tr><td>model.kern.branchkernelparam.kern.variance</td><td>[ 1.]</td><td>None</td><td>+ve</td></tr><tr><td>model.kern.branchkernelparam.kern.lengthscales</td><td>[ 5.]</td><td>None</td><td>+ve</td></tr><tr><td>model.logPhi</td><td>[[ 1.     -9.     -9.     ..., -9.     -9.     -9.    ]</br> [-9.     -9.     -9.     ..., -9.     -9.     -9.    ]</br> [-9.     -9.     -9.     ..., -9.     -9.     -9.    ]</br> ..., </br> [-9.     -9.     -9.     ..., -9.     -9.     -9.    ]</br> [-9.     -9.     -9.     ..., -9.     -9.     -9.    ]</br> [-9.     -9.     -9.     ..., -9.     -0.8811 -0.535 ]]</td><td>None</td><td>(none)</td></tr></table>"
      ],
      "text/plain": [
       "<assigngp_dense.AssignGP at 0x11dbfaf10>"
      ]
     },
     "execution_count": 10,
     "metadata": {},
     "output_type": "execute_result"
    }
   ],
   "source": [
    "## Prior to optimisation\n",
    "mV"
   ]
  },
  {
   "cell_type": "code",
   "execution_count": 11,
   "metadata": {
    "collapsed": false,
    "scrolled": false
   },
   "outputs": [
    {
     "name": "stdout",
     "output_type": "stream",
     "text": [
      "compiling tensorflow function...\n",
      "done\n",
      "Phi\n",
      "[[  9.9733e-01   4.5279e-05   4.5279e-05 ...,   4.5279e-05   4.5279e-05\n",
      "    4.5279e-05]\n",
      " [  4.5279e-05   4.5279e-05   4.5279e-05 ...,   4.5279e-05   4.5279e-05\n",
      "    4.5279e-05]\n",
      " [  4.5279e-05   4.5279e-05   4.5279e-05 ...,   4.5279e-05   4.5279e-05\n",
      "    4.5279e-05]\n",
      " ..., \n",
      " [  1.2253e-04   1.2253e-04   1.2253e-04 ...,   1.2253e-04   1.2253e-04\n",
      "    1.2253e-04]\n",
      " [  1.2253e-04   1.2253e-04   1.2253e-04 ...,   1.2253e-04   1.2253e-04\n",
      "    1.2253e-04]\n",
      " [  1.2253e-04   1.2253e-04   1.2253e-04 ...,   1.2253e-04   4.1139e-01\n",
      "    5.8150e-01]]\n"
     ]
    },
    {
     "data": {
      "image/png": "[encoded data removed]",
      "text/plain": [
       "<matplotlib.figure.Figure at 0x11dbb0150>"
      ]
     },
     "metadata": {},
     "output_type": "display_data"
    }
   ],
   "source": [
    "def plotPosterior(pt, Bv):\n",
    "    mV._compile()\n",
    "    l = np.min(pt)\n",
    "    u = np.max(pt)\n",
    "\n",
    "    for f in range(1, 4):\n",
    "        if(f==1):\n",
    "            ttest = np.linspace(l, Bv, 100)[:,None] # root\n",
    "        else:\n",
    "            ttest = np.linspace(Bv, u, 100)[:,None]\n",
    "        Xtest = np.hstack((ttest, ttest*0+f))\n",
    "        mu, var = mV.predict_f(Xtest)\n",
    "        assert np.all(np.isfinite(mu)), 'All elements should be finite but are ' + str(mu)\n",
    "        assert np.all(np.isfinite(var)), 'All elements should be finite but are ' + str(var)\n",
    "        mean, = plt.plot(ttest, mu)\n",
    "        col = mean.get_color()\n",
    "        plt.plot(ttest, mu + 2*np.sqrt(var), '--', color=col)\n",
    "        plt.plot(ttest, mu - 2*np.sqrt(var), '--', color=col)\n",
    "    \n",
    "    Phi = mV.GetPhi()   \n",
    "    for p, ind, y in zip(Phi, m.indices, mV.Y):\n",
    "        ps = p[ind]\n",
    "        i = ind[np.argmax(ps)]\n",
    "        plt.scatter(mV.X[i,0], y, 100, ps[2], vmin=0, vmax=1, cmap=plt.cm.viridis)\n",
    "    print 'Phi'\n",
    "    print Phi\n",
    "\n",
    "plotPosterior(t,Bv)\n",
    "\n",
    "        \n",
    "#        df=tree.GetFunctionDomains()\n",
    "#del mV._predict_f_graph\n",
    "#mV._compile()\n",
    "#plt.figure(figsize=(16,12))\n",
    "#for b in range(1, df.shape[0]+1):\n",
    "#    ttest = np.linspace(df[b-1][0], df[b-1][1], 100)[:,None]\n",
    "#    Xtest = np.hstack((ttest, ttest*0+b))\n",
    "    \n",
    "#    mu, var = mV.predict_f(Xtest)\n",
    "#    assert np.all(np.isfinite(mu)), 'All elements should be finite but are ' + str(mu)\n",
    "#    assert np.all(np.isfinite(var)), 'All elements should be finite but are ' + str(var)\n",
    "    \n",
    "#    mean, = plt.plot(ttest, mu)\n",
    "#    col = mean.get_color()\n",
    "#    plt.plot(ttest, mu + 2*np.sqrt(var), '--', color=col)\n",
    "#    plt.plot(ttest, mu - 2*np.sqrt(var), '--', color=col)\n",
    "\n",
    "#for p, ind, y in zip(Phi, m.indices, mV.Y):\n",
    "#    ps = p[ind]\n",
    "#    i = ind[np.argmax(ps)]\n",
    "#    plt.scatter(mV.X[i,0], y, 100, ps[2], vmin=0, vmax=1, cmap=plt.cm.viridis)"
   ]
  },
  {
   "cell_type": "code",
   "execution_count": 12,
   "metadata": {
    "collapsed": false
   },
   "outputs": [],
   "source": [
    "phiCalculated = mV.InitialisePhi(m.indices, bestAssignment, Bv, condProbs, fSoftAssignment = True)"
   ]
  },
  {
   "cell_type": "code",
   "execution_count": 13,
   "metadata": {
    "collapsed": false
   },
   "outputs": [
    {
     "data": {
      "text/html": [
       "<table id='parms' width=100%><tr><td>Name</td><td>values</td><td>prior</td><td>constriant</td></tr><tr><td>model.likelihood.variance</td><td>[ 0.001]</td><td>None</td><td>+ve</td></tr><tr><td>model.kern.white.variance</td><td>[ 0.001]</td><td>None</td><td>+ve</td></tr><tr><td>model.kern.branchkernelparam.Bv</td><td>[[ 0.5]]</td><td>None</td><td>[FIXED]</td></tr><tr><td>model.kern.branchkernelparam.kern.variance</td><td>[ 1.]</td><td>None</td><td>+ve</td></tr><tr><td>model.kern.branchkernelparam.kern.lengthscales</td><td>[ 5.]</td><td>None</td><td>+ve</td></tr><tr><td>model.logPhi</td><td>[[  1.0000e+00  -9.0000e+00  -9.0000e+00 ...,  -9.0000e+00  -9.0000e+00</br>   -9.0000e+00]</br> [ -9.0000e+00  -9.0000e+00  -9.0000e+00 ...,  -9.0000e+00  -9.0000e+00</br>   -9.0000e+00]</br> [ -9.0000e+00  -9.0000e+00  -9.0000e+00 ...,  -9.0000e+00  -9.0000e+00</br>   -9.0000e+00]</br> ..., </br> [ -9.0000e+00  -9.0000e+00  -9.0000e+00 ...,  -9.0000e+00  -9.0000e+00</br>   -9.0000e+00]</br> [ -9.0000e+00  -9.0000e+00  -9.0000e+00 ...,  -9.0000e+00  -9.0000e+00</br>   -9.0000e+00]</br> [ -9.0000e+00  -9.0000e+00  -9.0000e+00 ...,  -9.0000e+00  -6.9078e+00</br>   -1.0005e-03]]</td><td>None</td><td>(none)</td></tr></table>"
      ],
      "text/plain": [
       "<assigngp_dense.AssignGP at 0x11dbfaf10>"
      ]
     },
     "execution_count": 13,
     "metadata": {},
     "output_type": "execute_result"
    }
   ],
   "source": [
    "mV"
   ]
  },
  {
   "cell_type": "code",
   "execution_count": 14,
   "metadata": {
    "collapsed": false
   },
   "outputs": [
    {
     "name": "stdout",
     "output_type": "stream",
     "text": [
      "[[ 1.     0.     0.    ...,  0.     0.     0.   ]\n",
      " [ 0.     0.     0.    ...,  0.     0.     0.   ]\n",
      " [ 0.     0.     0.    ...,  0.     0.     0.   ]\n",
      " ..., \n",
      " [ 0.     0.     0.    ...,  0.     0.     0.   ]\n",
      " [ 0.     0.     0.    ...,  0.     0.     0.   ]\n",
      " [ 0.     0.     0.    ...,  0.     0.001  0.999]]\n",
      "[[ 1.      0.      0.     ...,  0.      0.      0.    ]\n",
      " [ 0.      0.      0.     ...,  0.      0.      0.    ]\n",
      " [ 0.      0.      0.     ...,  0.      0.      0.    ]\n",
      " ..., \n",
      " [ 0.      0.      0.     ...,  0.      0.      0.    ]\n",
      " [ 0.      0.      0.     ...,  0.      0.      0.    ]\n",
      " [ 0.      0.      0.     ...,  0.      0.4143  0.5857]]\n"
     ]
    }
   ],
   "source": [
    "print phiCalculated\n",
    "print phiInitial"
   ]
  },
  {
   "cell_type": "code",
   "execution_count": 15,
   "metadata": {
    "collapsed": false
   },
   "outputs": [
    {
     "data": {
      "text/html": [
       "<table id='parms' width=100%><tr><td>Name</td><td>values</td><td>prior</td><td>constriant</td></tr><tr><td>model.likelihood.variance</td><td>[ 0.001]</td><td>None</td><td>+ve</td></tr><tr><td>model.kern.white.variance</td><td>[ 0.001]</td><td>None</td><td>+ve</td></tr><tr><td>model.kern.branchkernelparam.Bv</td><td>[[ 0.5]]</td><td>None</td><td>[FIXED]</td></tr><tr><td>model.kern.branchkernelparam.kern.variance</td><td>[ 1.]</td><td>None</td><td>+ve</td></tr><tr><td>model.kern.branchkernelparam.kern.lengthscales</td><td>[ 5.]</td><td>None</td><td>+ve</td></tr><tr><td>model.logPhi</td><td>[[  1.0000e+00  -9.0000e+00  -9.0000e+00 ...,  -9.0000e+00  -9.0000e+00</br>   -9.0000e+00]</br> [ -9.0000e+00  -9.0000e+00  -9.0000e+00 ...,  -9.0000e+00  -9.0000e+00</br>   -9.0000e+00]</br> [ -9.0000e+00  -9.0000e+00  -9.0000e+00 ...,  -9.0000e+00  -9.0000e+00</br>   -9.0000e+00]</br> ..., </br> [ -9.0000e+00  -9.0000e+00  -9.0000e+00 ...,  -9.0000e+00  -9.0000e+00</br>   -9.0000e+00]</br> [ -9.0000e+00  -9.0000e+00  -9.0000e+00 ...,  -9.0000e+00  -9.0000e+00</br>   -9.0000e+00]</br> [ -9.0000e+00  -9.0000e+00  -9.0000e+00 ...,  -9.0000e+00  -6.9078e+00</br>   -1.0005e-03]]</td><td>None</td><td>(none)</td></tr></table>"
      ],
      "text/plain": [
       "<assigngp_dense.AssignGP at 0x11dbfaf10>"
      ]
     },
     "execution_count": 15,
     "metadata": {},
     "output_type": "execute_result"
    }
   ],
   "source": [
    "# After optimisation\n",
    "mV"
   ]
  },
  {
   "cell_type": "code",
   "execution_count": 16,
   "metadata": {
    "collapsed": false
   },
   "outputs": [
    {
     "name": "stdout",
     "output_type": "stream",
     "text": [
      "compiling tensorflow function...\n",
      "done\n",
      "Phi\n",
      "[[  9.9733e-01   4.5279e-05   4.5279e-05 ...,   4.5279e-05   4.5279e-05\n",
      "    4.5279e-05]\n",
      " [  4.5279e-05   4.5279e-05   4.5279e-05 ...,   4.5279e-05   4.5279e-05\n",
      "    4.5279e-05]\n",
      " [  4.5279e-05   4.5279e-05   4.5279e-05 ...,   4.5279e-05   4.5279e-05\n",
      "    4.5279e-05]\n",
      " ..., \n",
      " [  1.2253e-04   1.2253e-04   1.2253e-04 ...,   1.2253e-04   1.2253e-04\n",
      "    1.2253e-04]\n",
      " [  1.2253e-04   1.2253e-04   1.2253e-04 ...,   1.2253e-04   1.2253e-04\n",
      "    1.2253e-04]\n",
      " [  1.2253e-04   1.2253e-04   1.2253e-04 ...,   1.2253e-04   9.9289e-04\n",
      "    9.9190e-01]]\n"
     ]
    },
    {
     "data": {
      "image/png": "[encoded data removed]",
      "text/plain": [
       "<matplotlib.figure.Figure at 0x121052e10>"
      ]
     },
     "metadata": {},
     "output_type": "display_data"
    }
   ],
   "source": [
    "plotPosterior(t,Bv)"
   ]
  },
  {
   "cell_type": "code",
   "execution_count": 26,
   "metadata": {
    "collapsed": false
   },
   "outputs": [
    {
     "name": "stdout",
     "output_type": "stream",
     "text": [
      "mV\n",
      "model.likelihood.\\u001b[1mvariance\\u001b[0m transform:+ve prior:None\n",
      "[ 0.001]\n",
      "model.kern.white.\\u001b[1mvariance\\u001b[0m transform:+ve prior:None\n",
      "[ 0.001]\n",
      "model.kern.branchkernelparam.\\u001b[1mBv\\u001b[0m transform:(none) prior:None [FIXED]\n",
      "[[ 4.9932]]\n",
      "model.kern.branchkernelparam.kern.\\u001b[1mvariance\\u001b[0m transform:+ve prior:None\n",
      "[ 1.]\n",
      "model.kern.branchkernelparam.kern.\\u001b[1mlengthscales\\u001b[0m transform:+ve prior:None\n",
      "[ 5.]\n",
      "model.\\u001b[1mlogPhi\\u001b[0m transform:(none) prior:None\n",
      "[[  1.0000e+00  -9.0000e+00  -9.0000e+00 ...,  -9.0000e+00  -9.0000e+00\n",
      "   -9.0000e+00]\n",
      " [ -9.0000e+00  -9.0000e+00  -9.0000e+00 ...,  -9.0000e+00  -9.0000e+00\n",
      "   -9.0000e+00]\n",
      " [ -9.0000e+00  -9.0000e+00  -9.0000e+00 ...,  -9.0000e+00  -9.0000e+00\n",
      "   -9.0000e+00]\n",
      " ..., \n",
      " [ -9.0000e+00  -9.0000e+00  -9.0000e+00 ...,  -9.0000e+00  -9.0000e+00\n",
      "   -9.0000e+00]\n",
      " [ -9.0000e+00  -9.0000e+00  -9.0000e+00 ...,  -9.0000e+00  -9.0000e+00\n",
      "   -9.0000e+00]\n",
      " [ -9.0000e+00  -9.0000e+00  -9.0000e+00 ...,  -9.0000e+00  -6.9078e+00\n",
      "   -1.0005e-03]]\n",
      "\n",
      "mVNew\n",
      "model.likelihood.\\u001b[1mvariance\\u001b[0m transform:+ve prior:None\n",
      "[ 0.001]\n",
      "model.kern.white.\\u001b[1mvariance\\u001b[0m transform:+ve prior:None\n",
      "[ 0.001]\n",
      "model.kern.branchkernelparam.kern.\\u001b[1mvariance\\u001b[0m transform:+ve prior:None\n",
      "[ 1.]\n",
      "model.kern.branchkernelparam.kern.\\u001b[1mlengthscales\\u001b[0m transform:+ve prior:None\n",
      "[ 5.]\n",
      "model.kern.branchkernelparam.\\u001b[1mBv\\u001b[0m transform:(none) prior:None [FIXED]\n",
      "[[ 4.9932]]\n",
      "\n",
      "model.\\u001b[1mlogPhi\\u001b[0m transform:(none) prior:None\n",
      "[[  1.0000e+00  -9.0000e+00  -9.0000e+00 ...,  -9.0000e+00  -9.0000e+00\n",
      "   -9.0000e+00]\n",
      " [ -9.0000e+00  -9.0000e+00  -9.0000e+00 ...,  -9.0000e+00  -9.0000e+00\n",
      "   -9.0000e+00]\n",
      " [ -9.0000e+00  -9.0000e+00  -9.0000e+00 ...,  -9.0000e+00  -9.0000e+00\n",
      "   -9.0000e+00]\n",
      " ..., \n",
      " [ -9.0000e+00  -9.0000e+00  -9.0000e+00 ...,  -9.0000e+00  -9.0000e+00\n",
      "   -9.0000e+00]\n",
      " [ -9.0000e+00  -9.0000e+00  -9.0000e+00 ...,  -9.0000e+00  -9.0000e+00\n",
      "   -9.0000e+00]\n",
      " [ -9.0000e+00  -9.0000e+00  -9.0000e+00 ...,  -9.0000e+00  -6.9078e+00\n",
      "   -1.0005e-03]]\n"
     ]
    }
   ],
   "source": [
    "# test saving and restoring model\n",
    "# Initialise model\n",
    "# kernel\n",
    "str = 'Exp1'\n",
    "np.save(str + 'VBmodel',mV.get_free_state())\n",
    "\n",
    "KbranchNew = bk.BranchKernelParam(GPflow.kernels.Matern32(1), fm, BvInitial=Bvalue) + GPflow.kernels.White(1)\n",
    "KbranchNew.branchkernelparam.Bv.fixed = True\n",
    "mNew = AssignGPGibbsSingleLoop.AssignGPGibbsFast(t, Y, KbranchNew)\n",
    "mVNew = assigngp_dense.AssignGP(t, mNew.XExpanded, Y, KbranchNew)\n",
    "#mVNew._compile()\n",
    "print 'mV'\n",
    "print mV\n",
    "print 'mVNew'\n",
    "mVNew.set_state( np.load(str + 'VBmodel.npy'))\n",
    "print mVNew\n",
    "# have to restore state prior to compilation\n",
    "\n"
   ]
  },
  {
   "cell_type": "code",
   "execution_count": 27,
   "metadata": {
    "collapsed": false
   },
   "outputs": [
    {
     "data": {
      "text/plain": [
       "True"
      ]
     },
     "execution_count": 27,
     "metadata": {},
     "output_type": "execute_result"
    }
   ],
   "source": [
    "assert np.allclose( mV.get_free_state(), mVNew.get_free_state() )\n",
    "# note this will not copy and check the fixed parameters such as \n"
   ]
  },
  {
   "cell_type": "code",
   "execution_count": null,
   "metadata": {
    "collapsed": true
   },
   "outputs": [],
   "source": []
  }
 ],
 "metadata": {
  "anaconda-cloud": {},
  "kernelspec": {
   "display_name": "Python [Root]",
   "language": "python",
   "name": "Python [Root]"
  },
  "language_info": {
   "codemirror_mode": {
    "name": "ipython",
    "version": 3
   },
   "file_extension": ".py",
   "mimetype": "text/x-python",
   "name": "python",
   "nbconvert_exporter": "python",
   "pygments_lexer": "ipython3",
   "version": "3.5.2"
  }
 },
 "nbformat": 4,
 "nbformat_minor": 0
}
