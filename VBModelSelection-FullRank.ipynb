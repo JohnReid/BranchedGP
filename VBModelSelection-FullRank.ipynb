{
 "cells": [
  {
   "cell_type": "code",
   "execution_count": 1,
   "metadata": {
    "collapsed": false
   },
   "outputs": [],
   "source": [
    "import mouseQPCRModelSelection \n",
    "import numpy as np\n",
    "import time\n",
    "import AssignGPGibbsSingleLoop\n",
    "import GPflow\n",
    "import numpy as np\n",
    "import time\n",
    "import cPickle as pickle\n",
    "import assigngp_dense\n",
    "from matplotlib import pyplot as plt\n",
    "%matplotlib inline"
   ]
  },
  {
   "cell_type": "code",
   "execution_count": 2,
   "metadata": {
    "collapsed": false
   },
   "outputs": [
    {
     "data": {
      "text/plain": [
       "'0.1.3'"
      ]
     },
     "execution_count": 2,
     "metadata": {},
     "output_type": "execute_result"
    }
   ],
   "source": [
    "GPflow.__version__"
   ]
  },
  {
   "cell_type": "code",
   "execution_count": 3,
   "metadata": {
    "collapsed": false
   },
   "outputs": [
    {
     "name": "stdout",
     "output_type": "stream",
     "text": [
      "Loaded data data/guo_ssData.p with nrowsXncols = (437, 2).\n",
      "(437, 2)\n",
      "(437,)\n",
      "LoadMouseQPCRData output\n",
      "(437, 2)\n",
      "(437,)\n",
      "Y\n",
      "(437, 1)\n",
      "Branching kernel =====================\n",
      "unnamed.branchkernelparam.\\u001b[1mBv\\u001b[0m transform:(none) prior:None\n",
      "[[ 1.]]\n",
      "unnamed.branchkernelparam.kern.\\u001b[1mlengthscales\\u001b[0m transform:+ve prior:None\n",
      "[ 1.]\n",
      "unnamed.branchkernelparam.kern.\\u001b[1mvariance\\u001b[0m transform:+ve prior:None\n",
      "[ 1.]\n",
      "unnamed.white.\\u001b[1mvariance\\u001b[0m transform:+ve prior:None\n",
      "[ 1.]\n",
      "Initialise models: MAP =====================\n",
      "model.kern.branchkernelparam.\\u001b[1mBv\\u001b[0m transform:(none) prior:None\n",
      "[[ 1.]]\n",
      "model.kern.branchkernelparam.kern.\\u001b[1mlengthscales\\u001b[0m transform:+ve prior:None\n",
      "[ 1.]\n",
      "model.kern.branchkernelparam.kern.\\u001b[1mvariance\\u001b[0m transform:+ve prior:None\n",
      "[ 1.]\n",
      "model.kern.white.\\u001b[1mvariance\\u001b[0m transform:+ve prior:None [FIXED]\n",
      "[  1.00000000e-06]\n",
      "\n",
      "model.likelihood.\\u001b[1mvariance\\u001b[0m transform:+ve prior:None\n",
      "[ 1.]\n",
      "Initialise models: VB =====================\n",
      "compiling tensorflow function...\n",
      "done\n"
     ]
    }
   ],
   "source": [
    "Bpossible = np.linspace(2,70,3)\n",
    "pt,Yall = mouseQPCRModelSelection.LoadMouseQPCRData(subsetSelection=1)\n",
    "Y = Yall[:,0][None].T\n",
    "print 'Y'\n",
    "print Y.shape\n",
    "strExp = 'MouseQPCR_Exp1'\n",
    "m,mV = mouseQPCRModelSelection.InitModels(pt,Y)"
   ]
  },
  {
   "cell_type": "code",
   "execution_count": 4,
   "metadata": {
    "collapsed": false
   },
   "outputs": [
    {
     "name": "stdout",
     "output_type": "stream",
     "text": [
      "1\n"
     ]
    }
   ],
   "source": [
    "Bpossible=None\n",
    "strSaveState='test'\n",
    "fSoftVBAssignment=False\n",
    "fOptimizeHyperparameters = False\n",
    "fReestimateMAPZ=False\n",
    "numMAPsteps = 10\n",
    "D=Y.shape[1]\n",
    "print D"
   ]
  },
  {
   "cell_type": "code",
   "execution_count": 5,
   "metadata": {
    "collapsed": false
   },
   "outputs": [
    {
     "name": "stdout",
     "output_type": "stream",
     "text": [
      "============> B=[ 10.]\n",
      "MAP assignment.\n",
      "Performing MAP inference with B=[ 10.]\n",
      "Converged after 2 iterations, lik=34.094\n",
      "MAP times 412.327 secs\n",
      "compiling tensorflow function...\n",
      "done\n"
     ]
    }
   ],
   "source": [
    "# Do the MAP solution and plot assignments\n",
    "t0 = time.time()\n",
    "\n",
    "Kbranch = m.kern\n",
    "pt = mV.t\n",
    "b = 10\n",
    "\n",
    "Bcrap = np.atleast_2d(b) # crappy branch point\n",
    "\n",
    "# reinitialise hyperparameters\n",
    "Kbranch.white.variance = 1e-6\n",
    "Kbranch.branchkernelparam.kern.lengthscales = 100 # 20 + (90. - b) / 2. # 65\n",
    "Kbranch.branchkernelparam.kern.variance = 2 #0.0012 #  2.3158\n",
    "m.likelihood.variance = 0.08\n",
    "mV.likelihood.variance = m.likelihood.variance._array\n",
    "\n",
    "# should recompute Kernel everytime we update kernel hyperparameters\n",
    "m.CompileAssignmentProbability(fDebug=False,fMAP=True) \n",
    "\n",
    "# set branching point\n",
    "m.kern.branchkernelparam.Bv = Bcrap \n",
    "\n",
    "print '============> B=' + str(m.kern.branchkernelparam.Bv._array.flatten())\n",
    "\n",
    "# Random assignment for given branch point\n",
    "\n",
    "np.random.seed(47)\n",
    "\n",
    "randomAssignment = AssignGPGibbsSingleLoop.GetRandomInit(pt,Bcrap,m.indices)\n",
    "print 'MAP assignment.'\n",
    "(chainState, bestAssignment,_,condProbs) = \\\n",
    "    m.InferenceGibbsMAP(fReturnAssignmentHistory=True,fDebug=False,\\\n",
    "    maximumNumberOfSteps=numMAPsteps,\\\n",
    "    startingAssignment=list(randomAssignment))\n",
    "    \n",
    "\n",
    "elapsedMAPTime = time.time() - t0\n",
    "print 'MAP times %g secs'%elapsedMAPTime\n",
    "\n",
    "# Very important!    \n",
    "mV.kern.branchkernelparam.Bv.fixed = False\n",
    "mV._compile()\n"
   ]
  },
  {
   "cell_type": "code",
   "execution_count": 6,
   "metadata": {
    "collapsed": false
   },
   "outputs": [
    {
     "data": {
      "text/html": [
       "<table id='parms' width=100%><tr><td>Name</td><td>values</td><td>prior</td><td>constriant</td></tr><tr><td>model.kern.branchkernelparam.Bv</td><td>[[ 10.]]</td><td>None</td><td>(none)</td></tr><tr><td>model.kern.branchkernelparam.kern.lengthscales</td><td>[ 100.]</td><td>None</td><td>+ve</td></tr><tr><td>model.kern.branchkernelparam.kern.variance</td><td>[ 2.]</td><td>None</td><td>+ve</td></tr><tr><td>model.kern.white.variance</td><td>[  1.00000000e-06]</td><td>None</td><td>[FIXED]</td></tr><tr><td>model.likelihood.variance</td><td>[ 0.08]</td><td>None</td><td>+ve</td></tr></table>"
      ],
      "text/plain": [
       "<AssignGPGibbsSingleLoop.AssignGPGibbsFast at 0x7f05c3637290>"
      ]
     },
     "execution_count": 6,
     "metadata": {},
     "output_type": "execute_result"
    }
   ],
   "source": [
    "m"
   ]
  },
  {
   "cell_type": "code",
   "execution_count": 7,
   "metadata": {
    "collapsed": false
   },
   "outputs": [
    {
     "data": {
      "text/html": [
       "<table id='parms' width=100%><tr><td>Name</td><td>values</td><td>prior</td><td>constriant</td></tr><tr><td>model.logPhi</td><td>[[ 2.2962295  -0.34806546  0.48131663 ...,  1.2461214  -0.18302217</br>  -0.71324472]</br> [ 0.78212789 -0.29951576 -2.01645389 ...,  0.44919632  1.43732503</br>  -1.59874586]</br> [-0.79011272  2.12006621 -0.36089413 ...,  2.71768367  0.2496119</br>   0.00911477]</br> ..., </br> [-0.52697044  1.16311741  0.38008261 ..., -0.87860234 -1.08928925</br>   0.44515832]</br> [-1.32021196  0.2225133   0.02681855 ..., -1.0958811  -1.34829078</br>   0.11240138]</br> [ 1.25994112  0.55911706  0.70526019 ..., -0.975475    0.4250054</br>  -0.62468447]]</td><td>None</td><td>(none)</td></tr><tr><td>model.likelihood.variance</td><td>[ 0.08]</td><td>None</td><td>+ve</td></tr><tr><td>model.kern.white.variance</td><td>[  1.00000000e-06]</td><td>None</td><td>[FIXED]</td></tr><tr><td>model.kern.branchkernelparam.Bv</td><td>[[ 10.]]</td><td>None</td><td>(none)</td></tr><tr><td>model.kern.branchkernelparam.kern.lengthscales</td><td>[ 1.]</td><td>None</td><td>+ve</td></tr><tr><td>model.kern.branchkernelparam.kern.variance</td><td>[ 1.]</td><td>None</td><td>+ve</td></tr></table>"
      ],
      "text/plain": [
       "<assigngp_dense.AssignGP at 0x7f05b81e6d50>"
      ]
     },
     "execution_count": 7,
     "metadata": {},
     "output_type": "execute_result"
    }
   ],
   "source": [
    "mV"
   ]
  },
  {
   "cell_type": "code",
   "execution_count": 9,
   "metadata": {
    "collapsed": false
   },
   "outputs": [
    {
     "data": {
      "image/png": "[encoded data removed]",
      "text/plain": [
       "<matplotlib.figure.Figure at 0x7f053e4df3d0>"
      ]
     },
     "metadata": {},
     "output_type": "display_data"
    }
   ],
   "source": [
    "# Plot MAP solution\n",
    "assigngp_dense.PlotSample(D,m.XExpanded[bestAssignment, : ],3,Y,Bcrap,lw=5.,fs=30, \\\n",
    "                      mV=None, figsizeIn=(D*10,D*7),title='Posterior B=%.1f -loglik= %.2f VB= %.2f'%(b,0,0))"
   ]
  },
  {
   "cell_type": "code",
   "execution_count": 49,
   "metadata": {
    "collapsed": false,
    "scrolled": true
   },
   "outputs": [],
   "source": [
    "strSaveState = 'InitialAllocationForMAPv1'\n",
    "saveDict = {'XExpanded':m.XExpanded, 'bestAssignment':bestAssignment, \\\n",
    "            'b':m.kern.branchkernelparam.Bv._array[0], 'pt':pt, 'YGPLVM':m.Y, \\\n",
    "            'lenscale':m.kern.branchkernelparam.kern.lengthscales._array[0],\\\n",
    "            'var':m.kern.branchkernelparam.kern.variance._array[0],\\\n",
    "            'wvar':m.kern.white.variance._array[0],\\\n",
    "            'lvar':m.likelihood.variance._array[0],\\\n",
    "            'indices':m.indices\\\n",
    "           }\n",
    "pickle.dump( saveDict, open( 'modelfiles/'+strSaveState + '.p', \"wb\" ) )\n"
   ]
  },
  {
   "cell_type": "code",
   "execution_count": 51,
   "metadata": {
    "collapsed": false
   },
   "outputs": [
    {
     "data": {
      "text/plain": [
       "437"
      ]
     },
     "execution_count": 51,
     "metadata": {},
     "output_type": "execute_result"
    }
   ],
   "source": [
    "len(m.indices)"
   ]
  },
  {
   "cell_type": "code",
   "execution_count": 20,
   "metadata": {
    "collapsed": false
   },
   "outputs": [],
   "source": [
    "np.save('modelfiles/'+strSaveState + '_MAPmodel',mV.get_free_state())"
   ]
  },
  {
   "cell_type": "code",
   "execution_count": 21,
   "metadata": {
    "collapsed": false
   },
   "outputs": [
    {
     "name": "stdout",
     "output_type": "stream",
     "text": [
      "Branching kernel =====================\n",
      "unnamed.branchkernelparam.kern.\\u001b[1mvariance\\u001b[0m transform:+ve prior:None\n",
      "[ 1.]\n",
      "unnamed.branchkernelparam.kern.\\u001b[1mlengthscales\\u001b[0m transform:+ve prior:None\n",
      "[ 1.]\n",
      "unnamed.branchkernelparam.\\u001b[1mBv\\u001b[0m transform:(none) prior:None\n",
      "[[ 1.]]\n",
      "unnamed.white.\\u001b[1mvariance\\u001b[0m transform:+ve prior:None\n",
      "[ 1.]\n",
      "Initialise models: MAP =====================\n",
      "model.likelihood.\\u001b[1mvariance\\u001b[0m transform:+ve prior:None\n",
      "[ 1.]\n",
      "model.kern.branchkernelparam.kern.\\u001b[1mvariance\\u001b[0m transform:+ve prior:None\n",
      "[ 1.]\n",
      "model.kern.branchkernelparam.kern.\\u001b[1mlengthscales\\u001b[0m transform:+ve prior:None\n",
      "[ 1.]\n",
      "model.kern.branchkernelparam.\\u001b[1mBv\\u001b[0m transform:(none) prior:None\n",
      "[[ 1.]]\n",
      "model.kern.white.\\u001b[1mvariance\\u001b[0m transform:+ve prior:None [FIXED]\n",
      "[  1.00000000e-06]\n",
      "\n",
      "Initialise models: VB =====================\n",
      "compiling tensorflow function...\n",
      "done\n"
     ]
    },
    {
     "data": {
      "text/html": [
       "<table id='parms' width=100%><tr><td>Name</td><td>values</td><td>prior</td><td>constriant</td></tr><tr><td>model.likelihood.variance</td><td>[ 1.]</td><td>None</td><td>+ve</td></tr><tr><td>model.logPhi</td><td>[[-1.05736586 -1.3987364   0.37987387 ..., -0.07820343 -0.72787558</br>  -0.60127001]</br> [ 1.14093849  0.29500095  0.70221183 ...,  0.29103354  1.43405756</br>  -0.1955219 ]</br> [ 0.30029587  1.76308073 -0.12391201 ..., -0.72510635 -1.50151577</br>   0.42550452]</br> ..., </br> [ 0.2350487  -1.84960793 -0.60559056 ...,  0.33339967 -0.10534232</br>  -1.68051316]</br> [ 0.69461243  0.8742174  -2.27753779 ...,  1.18985911 -0.17232812</br>  -0.50919587]</br> [-0.49432404 -0.49161743  1.44999002 ...,  0.24177948 -0.1110826</br>   0.62888568]]</td><td>None</td><td>(none)</td></tr><tr><td>model.kern.branchkernelparam.Bv</td><td>[[ 1.]]</td><td>None</td><td>(none)</td></tr><tr><td>model.kern.branchkernelparam.kern.variance</td><td>[ 1.]</td><td>None</td><td>+ve</td></tr><tr><td>model.kern.branchkernelparam.kern.lengthscales</td><td>[ 1.]</td><td>None</td><td>+ve</td></tr><tr><td>model.kern.white.variance</td><td>[  1.00000000e-06]</td><td>None</td><td>[FIXED]</td></tr></table>"
      ],
      "text/plain": [
       "<assigngp_dense.AssignGP at 0x7f0519ae0890>"
      ]
     },
     "execution_count": 21,
     "metadata": {},
     "output_type": "execute_result"
    }
   ],
   "source": [
    "mR,mVR = mouseQPCRModelSelection.InitModels(pt,m.Y)\n",
    "mVR"
   ]
  },
  {
   "cell_type": "code",
   "execution_count": 22,
   "metadata": {
    "collapsed": false
   },
   "outputs": [
    {
     "data": {
      "text/plain": [
       "572911"
      ]
     },
     "execution_count": 22,
     "metadata": {},
     "output_type": "execute_result"
    }
   ],
   "source": [
    "mVR.set_state(np.load('modelfiles/'+strSaveState + '_MAPmodel.npy'))"
   ]
  },
  {
   "cell_type": "code",
   "execution_count": 23,
   "metadata": {
    "collapsed": false,
    "scrolled": true
   },
   "outputs": [
    {
     "data": {
      "text/html": [
       "<table id='parms' width=100%><tr><td>Name</td><td>values</td><td>prior</td><td>constriant</td></tr><tr><td>model.likelihood.variance</td><td>[ 2.39211914]</td><td>None</td><td>+ve</td></tr><tr><td>model.logPhi</td><td>[[-0.34806546  0.48131663 -0.57647687 ..., -0.18302217 -0.71324472</br>   0.78212789]</br> [-0.29951576 -2.01645389  0.96263481 ...,  1.43732503 -1.59874586</br>  -0.79011272]</br> [ 2.12006621 -0.36089413  1.40332194 ...,  0.2496119   0.00911477</br>  -1.15760033]</br> ..., </br> [ 1.16311741  0.38008261  0.1299237  ..., -1.08928925  0.44515832</br>  -1.32021196]</br> [ 0.2225133   0.02681855  0.8821404  ..., -1.34829078  0.11240138</br>   1.25994112]</br> [ 0.55911706  0.70526019  0.84547667 ...,  0.4250054  -0.62468447</br>  -2.48546199]]</td><td>None</td><td>(none)</td></tr><tr><td>model.kern.branchkernelparam.Bv</td><td>[[ 10.]]</td><td>None</td><td>(none)</td></tr><tr><td>model.kern.branchkernelparam.kern.variance</td><td>[ 1.]</td><td>None</td><td>+ve</td></tr><tr><td>model.kern.branchkernelparam.kern.lengthscales</td><td>[ 1.]</td><td>None</td><td>+ve</td></tr><tr><td>model.kern.white.variance</td><td>[  1.00000000e-06]</td><td>None</td><td>[FIXED]</td></tr></table>"
      ],
      "text/plain": [
       "<assigngp_dense.AssignGP at 0x7f0519ae0890>"
      ]
     },
     "execution_count": 23,
     "metadata": {},
     "output_type": "execute_result"
    }
   ],
   "source": [
    "mVR"
   ]
  },
  {
   "cell_type": "code",
   "execution_count": 57,
   "metadata": {
    "collapsed": false,
    "scrolled": true
   },
   "outputs": [],
   "source": [
    "l = pt.min() + 1\n",
    "u = pt.max() - 1\n",
    "nb = 10\n",
    "bs=np.linspace(l, u, nb-2)\n"
   ]
  },
  {
   "cell_type": "code",
   "execution_count": 60,
   "metadata": {
    "collapsed": false
   },
   "outputs": [
    {
     "data": {
      "text/plain": [
       "numpy.float64"
      ]
     },
     "execution_count": 60,
     "metadata": {},
     "output_type": "execute_result"
    }
   ],
   "source": [
    "type(bs[2])"
   ]
  },
  {
   "cell_type": "code",
   "execution_count": null,
   "metadata": {
    "collapsed": true
   },
   "outputs": [],
   "source": []
  }
 ],
 "metadata": {
  "kernelspec": {
   "display_name": "Python 2",
   "language": "python",
   "name": "python2"
  },
  "language_info": {
   "codemirror_mode": {
    "name": "ipython",
    "version": 2
   },
   "file_extension": ".py",
   "mimetype": "text/x-python",
   "name": "python",
   "nbconvert_exporter": "python",
   "pygments_lexer": "ipython2",
   "version": "2.7.11"
  }
 },
 "nbformat": 4,
 "nbformat_minor": 0
}
