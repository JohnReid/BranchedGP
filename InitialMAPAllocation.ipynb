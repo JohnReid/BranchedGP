{
 "cells": [
  {
   "cell_type": "code",
   "execution_count": 1,
   "metadata": {
    "collapsed": false
   },
   "outputs": [],
   "source": [
    "import mouseQPCRModelSelection \n",
    "import numpy as np\n",
    "import time\n",
    "import AssignGPGibbsSingleLoop\n",
    "import GPflow\n",
    "import numpy as np\n",
    "import time\n",
    "import cPickle as pickle\n",
    "import assigngp_dense\n",
    "from matplotlib import pyplot as plt\n",
    "%matplotlib inline\n",
    "import branch_kernParamGPflow as bk\n",
    "import BranchingTree as bt\n"
   ]
  },
  {
   "cell_type": "code",
   "execution_count": 2,
   "metadata": {
    "collapsed": false
   },
   "outputs": [],
   "source": [
    "subsetSelection = 0"
   ]
  },
  {
   "cell_type": "code",
   "execution_count": 3,
   "metadata": {
    "collapsed": false
   },
   "outputs": [
    {
     "name": "stdout",
     "output_type": "stream",
     "text": [
      "Loaded GPLVM data/guo_ssData.p with nrowsXncols = (437, 2).\n",
      "LoadMouseQPCRData output\n",
      "Y\n",
      "(437, 1)\n",
      "Branching kernel =====================\n",
      "unnamed.branchkernelparam.kern.\\u001b[1mvariance\\u001b[0m transform:+ve prior:None\n",
      "[ 1.]\n",
      "unnamed.branchkernelparam.kern.\\u001b[1mlengthscales\\u001b[0m transform:+ve prior:None\n",
      "[ 1.]\n",
      "unnamed.branchkernelparam.\\u001b[1mBv\\u001b[0m transform:(none) prior:None\n",
      "[[ 1.]]\n",
      "unnamed.white.\\u001b[1mvariance\\u001b[0m transform:+ve prior:None\n",
      "[ 1.]\n",
      "Initialise models: MAP =====================\n",
      "model.kern.branchkernelparam.kern.\\u001b[1mvariance\\u001b[0m transform:+ve prior:None\n",
      "[ 1.]\n",
      "model.kern.branchkernelparam.kern.\\u001b[1mlengthscales\\u001b[0m transform:+ve prior:None\n",
      "[ 1.]\n",
      "model.kern.branchkernelparam.\\u001b[1mBv\\u001b[0m transform:(none) prior:None\n",
      "[[ 1.]]\n",
      "model.kern.white.\\u001b[1mvariance\\u001b[0m transform:+ve prior:None [FIXED]\n",
      "[  1.00000000e-06]\n",
      "\n",
      "model.likelihood.\\u001b[1mvariance\\u001b[0m transform:+ve prior:None\n",
      "[ 1.]\n",
      "Initialise models: VB =====================\n",
      "compiling tensorflow function...\n",
      "done\n"
     ]
    }
   ],
   "source": [
    "pt,Yall = mouseQPCRModelSelection.LoadMouseQPCRData(subsetSelection=subsetSelection)\n",
    "Y = Yall[:,0][None].T\n",
    "print 'Y'\n",
    "print Y.shape\n",
    "strExp = 'MouseQPCR_Exp1'\n",
    "m,_ = mouseQPCRModelSelection.InitModels(pt,Y)"
   ]
  },
  {
   "cell_type": "code",
   "execution_count": 4,
   "metadata": {
    "collapsed": false
   },
   "outputs": [
    {
     "name": "stdout",
     "output_type": "stream",
     "text": [
      "1\n"
     ]
    }
   ],
   "source": [
    "numMAPsteps = 10\n",
    "D=Y.shape[1]\n",
    "print D"
   ]
  },
  {
   "cell_type": "code",
   "execution_count": 6,
   "metadata": {
    "collapsed": false
   },
   "outputs": [
    {
     "name": "stdout",
     "output_type": "stream",
     "text": [
      "============> B=[ 0.]\n",
      "MAP assignment.\n",
      "Performing MAP inference with B=[ 0.]\n",
      "Converged after 2 iterations, lik=52.228\n",
      "MAP times 415.387 secs\n"
     ]
    }
   ],
   "source": [
    "# Do the MAP solution and plot assignments\n",
    "t0 = time.time()\n",
    "\n",
    "Kbranch = m.kern\n",
    "# reinitialise hyperparameters\n",
    "Kbranch.white.variance = 1e-6\n",
    "Kbranch.branchkernelparam.kern.lengthscales = 100 # 20 + (90. - b) / 2. # 65\n",
    "Kbranch.branchkernelparam.kern.variance = 2 #0.0012 #  2.3158\n",
    "m.likelihood.variance = 0.08\n",
    "\n",
    "# set branching point\n",
    "m.kern.branchkernelparam.Bv.fixed = True\n",
    "m.kern.branchkernelparam.Bv = pt.min(-1) # identify two trajectories\n",
    "# should recompute Kernel everytime we update kernel hyperparameters\n",
    "m.CompileAssignmentProbability(fDebug=False,fMAP=True) \n",
    "\n",
    "print '============> B=' + str(m.kern.branchkernelparam.Bv._array.flatten())\n",
    "\n",
    "# Random assignment for given branch point\n",
    "\n",
    "np.random.seed(47)\n",
    "\n",
    "randomAssignment = AssignGPGibbsSingleLoop.GetRandomInit(pt,m.kern.branchkernelparam.Bv._array,m.indices)\n",
    "print 'MAP assignment.'\n",
    "(chainState, bestAssignment,_,condProbs) = \\\n",
    "    m.InferenceGibbsMAP(fReturnAssignmentHistory=True,fDebug=False,\\\n",
    "    maximumNumberOfSteps=numMAPsteps,\\\n",
    "    startingAssignment=list(randomAssignment))\n",
    "    \n",
    "\n",
    "elapsedMAPTime = time.time() - t0\n",
    "print 'MAP times %g secs'%elapsedMAPTime"
   ]
  },
  {
   "cell_type": "code",
   "execution_count": 7,
   "metadata": {
    "collapsed": false
   },
   "outputs": [
    {
     "data": {
      "text/html": [
       "<table id='parms' width=100%><tr><td>Name</td><td>values</td><td>prior</td><td>constriant</td></tr><tr><td>model.kern.branchkernelparam.kern.variance</td><td>[ 2.]</td><td>None</td><td>+ve</td></tr><tr><td>model.kern.branchkernelparam.kern.lengthscales</td><td>[ 100.]</td><td>None</td><td>+ve</td></tr><tr><td>model.kern.branchkernelparam.Bv</td><td>[[ 0.]]</td><td>None</td><td>[FIXED]</td></tr><tr><td>model.kern.white.variance</td><td>[  1.00000000e-06]</td><td>None</td><td>[FIXED]</td></tr><tr><td>model.likelihood.variance</td><td>[ 0.08]</td><td>None</td><td>+ve</td></tr></table>"
      ],
      "text/plain": [
       "<AssignGPGibbsSingleLoop.AssignGPGibbsFast at 0x7ff6fbb1c4d0>"
      ]
     },
     "execution_count": 7,
     "metadata": {},
     "output_type": "execute_result"
    }
   ],
   "source": [
    "m"
   ]
  },
  {
   "cell_type": "code",
   "execution_count": 8,
   "metadata": {
    "collapsed": false
   },
   "outputs": [
    {
     "ename": "NameError",
     "evalue": "name 'Bcrap' is not defined",
     "output_type": "error",
     "traceback": [
      "\\u001b[1;31m---------------------------------------------------------------------------\\u001b[0m",
      "\\u001b[1;31mNameError\\u001b[0m                                 Traceback (most recent call last)",
      "\\u001b[1;32m<ipython-input-8-6375ab0d412c>\\u001b[0m in \\u001b[0;36m<module>\\u001b[1;34m()\\u001b[0m\n\\u001b[0;32m      1\\u001b[0m \\u001b[1;31m# Plot MAP solution\\u001b[0m\\u001b[1;33m\\u001b[0m\\u001b[1;33m\\u001b[0m\\u001b[0m\n\\u001b[1;32m----> 2\\u001b[1;33m \\u001b[0massigngp_dense\\u001b[0m\\u001b[1;33m.\\u001b[0m\\u001b[0mPlotSample\\u001b[0m\\u001b[1;33m(\\u001b[0m\\u001b[0mD\\u001b[0m\\u001b[1;33m,\\u001b[0m\\u001b[0mm\\u001b[0m\\u001b[1;33m.\\u001b[0m\\u001b[0mXExpanded\\u001b[0m\\u001b[1;33m[\\u001b[0m\\u001b[0mbestAssignment\\u001b[0m\\u001b[1;33m,\\u001b[0m \\u001b[1;33m:\\u001b[0m \\u001b[1;33m]\\u001b[0m\\u001b[1;33m,\\u001b[0m\\u001b[1;36m3\\u001b[0m\\u001b[1;33m,\\u001b[0m\\u001b[0mY\\u001b[0m\\u001b[1;33m,\\u001b[0m\\u001b[0mBcrap\\u001b[0m\\u001b[1;33m,\\u001b[0m\\u001b[0mlw\\u001b[0m\\u001b[1;33m=\\u001b[0m\\u001b[1;36m5.\\u001b[0m\\u001b[1;33m,\\u001b[0m\\u001b[0mfs\\u001b[0m\\u001b[1;33m=\\u001b[0m\\u001b[1;36m30\\u001b[0m\\u001b[1;33m,\\u001b[0m                       \\u001b[0mmV\\u001b[0m\\u001b[1;33m=\\u001b[0m\\u001b[0mNone\\u001b[0m\\u001b[1;33m,\\u001b[0m \\u001b[0mfigsizeIn\\u001b[0m\\u001b[1;33m=\\u001b[0m\\u001b[1;33m(\\u001b[0m\\u001b[0mD\\u001b[0m\\u001b[1;33m*\\u001b[0m\\u001b[1;36m10\\u001b[0m\\u001b[1;33m,\\u001b[0m\\u001b[0mD\\u001b[0m\\u001b[1;33m*\\u001b[0m\\u001b[1;36m7\\u001b[0m\\u001b[1;33m)\\u001b[0m\\u001b[1;33m,\\u001b[0m\\u001b[0mtitle\\u001b[0m\\u001b[1;33m=\\u001b[0m\\u001b[1;34m'Posterior B=%.1f -loglik= %.2f VB= %.2f'\\u001b[0m\\u001b[1;33m%\\u001b[0m\\u001b[1;33m(\\u001b[0m\\u001b[0mb\\u001b[0m\\u001b[1;33m,\\u001b[0m\\u001b[1;36m0\\u001b[0m\\u001b[1;33m,\\u001b[0m\\u001b[1;36m0\\u001b[0m\\u001b[1;33m)\\u001b[0m\\u001b[1;33m)\\u001b[0m\\u001b[1;33m\\u001b[0m\\u001b[0m\n\\u001b[0m",
      "\\u001b[1;31mNameError\\u001b[0m: name 'Bcrap' is not defined"
     ]
    }
   ],
   "source": [
    "# Plot MAP solution\n",
    "assigngp_dense.PlotSample(D,m.XExpanded[bestAssignment, : ],3,Y,Bcrap,lw=5.,fs=30, \\\n",
    "                      mV=None, figsizeIn=(D*10,D*7),title='Posterior B=%.1f -loglik= %.2f VB= %.2f'%(b,0,0))"
   ]
  },
  {
   "cell_type": "code",
   "execution_count": null,
   "metadata": {
    "collapsed": true
   },
   "outputs": [],
   "source": [
    "strSaveState = 'InitialAllocationForMAPv1'\n",
    "saveDict = {'XExpanded':m.XExpanded, 'bestAssignment':bestAssignment, \\\n",
    "            'b':m.kern.branchkernelparam.Bv._array[0], 'pt':pt, 'YGPLVM':m.Y, \\\n",
    "            'lenscale':m.kern.branchkernelparam.kern.lengthscales._array[0],\\\n",
    "            'var':m.kern.branchkernelparam.kern.variance._array[0],\\\n",
    "            'wvar':m.kern.white.variance._array[0],\\\n",
    "            'lvar':m.likelihood.variance._array[0],\\\n",
    "            'indices':m.indices\\\n",
    "           }\n",
    "pickle.dump( saveDict, open( 'modelfiles/'+strSaveState + '.p', \"wb\" ) )\n"
   ]
  },
  {
   "cell_type": "code",
   "execution_count": null,
   "metadata": {
    "collapsed": true
   },
   "outputs": [],
   "source": []
  }
 ],
 "metadata": {
  "kernelspec": {
   "display_name": "Python 2",
   "language": "python",
   "name": "python2"
  },
  "language_info": {
   "codemirror_mode": {
    "name": "ipython",
    "version": 2
   },
   "file_extension": ".py",
   "mimetype": "text/x-python",
   "name": "python",
   "nbconvert_exporter": "python",
   "pygments_lexer": "ipython2",
   "version": "2.7.11"
  }
 },
 "nbformat": 4,
 "nbformat_minor": 0
}
